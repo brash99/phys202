{
 "cells": [
  {
   "cell_type": "markdown",
   "metadata": {},
   "source": [
    "This notebook attempts to solve the following problem: A uniformly charged rod of length L = 1.9m lies along the x-axis with its right end at the origin.  The rod has a total charge of Q = 8.4 uC.  A point P is located on the x-axis a distance a = 2.4m to the right of the origin.  Calculate the magnitude of the electric field at point P, due to the charged rod.\n",
    "\n",
    "The expression for the electric field, using calculus, is:\n",
    "\n",
    "E_exact = k*Q/(a(a+L))\n",
    "\n",
    "The expression for the electric field, assuming a point charge at the centre of the rod is:\n",
    "\n",
    "E_pt_charge = k*Q/(a+L1/2)^2 \n",
    "\n",
    "We begin by importing the appropriate plotting and mathematical libraries."
   ]
  },
  {
   "cell_type": "code",
   "execution_count": 1,
   "metadata": {},
   "outputs": [],
   "source": [
    "import math\n",
    "import matplotlib.pyplot as plt"
   ]
  },
  {
   "cell_type": "markdown",
   "metadata": {},
   "source": [
    "Next, we define the appropriate values, along with lists which will contain the separation, a, and the percentage difference between the exact and point charge solutions."
   ]
  },
  {
   "cell_type": "code",
   "execution_count": 2,
   "metadata": {},
   "outputs": [],
   "source": [
    "ke = 8.99E+09\n",
    "Q = 8.4E-06\n",
    "L = 1.9\n",
    "\n",
    "pdiff = [0 for i in range(0,1000)]\n",
    "a = [0 for i in range(0,1000)]"
   ]
  },
  {
   "cell_type": "markdown",
   "metadata": {},
   "source": [
    "Now, we loop over separations from the initial value specified in the problem up to some rather large separation.  At each step, we calculate the two values of the electric field (exact and point charge), and the percentage difference between them."
   ]
  },
  {
   "cell_type": "code",
   "execution_count": 5,
   "metadata": {},
   "outputs": [
    {
     "name": "stdout",
     "output_type": "stream",
     "text": [
      "a =  2.4  E =  7317.441860465117  E_pointcharge =  6728.981955892182\n"
     ]
    }
   ],
   "source": [
    "for i in range(0,1000):\n",
    "    a[i] = 2.4+i*0.02\n",
    "\n",
    "    E_exact = ke*Q/(a[i]*(a[i]+L))\n",
    "    E_pt_charge = ke*Q/((a[i]+L/2)*(a[i]+L/2))\n",
    "\n",
    "    pdiff[i] = abs((E_exact-E_pt_charge)/E_exact)\n",
    "    if i==0: print (\"a = \",a[i],\" E = \",E_exact,\" E_pointcharge = \",E_pt_charge)\n"
   ]
  },
  {
   "cell_type": "markdown",
   "metadata": {},
   "source": [
    "Finally, we plot the results."
   ]
  },
  {
   "cell_type": "code",
   "execution_count": 6,
   "metadata": {},
   "outputs": [
    {
     "data": {
      "image/png": "[encoded data removed]",
      "text/plain": [
       "<matplotlib.figure.Figure at 0x112810940>"
      ]
     },
     "metadata": {},
     "output_type": "display_data"
    }
   ],
   "source": [
    "fig = plt.figure()\n",
    "ax1 = fig.add_subplot(111)\n",
    "\n",
    "ax1.set_title(\"Point Charge Approximation\")\n",
    "ax1.set_xlabel('Distance (m)')\n",
    "ax1.set_ylabel('Fractional Difference')\n",
    "ax1.grid(True)\n",
    "#ax1.set_yscale(\"log\",nonposy='clip')\n",
    "#ax1.set_xscale(\"log\",nonposx='clip')\n",
    "\n",
    "ax1.scatter(a,pdiff)\n",
    "\n",
    "plt.show()"
   ]
  },
  {
   "cell_type": "code",
   "execution_count": null,
   "metadata": {},
   "outputs": [],
   "source": []
  },
  {
   "cell_type": "code",
   "execution_count": null,
   "metadata": {},
   "outputs": [],
   "source": []
  }
 ],
 "metadata": {
  "kernelspec": {
   "display_name": "Python 3",
   "language": "python",
   "name": "python3"
  },
  "language_info": {
   "codemirror_mode": {
    "name": "ipython",
    "version": 3
   },
   "file_extension": ".py",
   "mimetype": "text/x-python",
   "name": "python",
   "nbconvert_exporter": "python",
   "pygments_lexer": "ipython3",
   "version": "3.6.3"
  }
 },
 "nbformat": 4,
 "nbformat_minor": 2
}
