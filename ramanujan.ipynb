{
 "cells": [
  {
   "cell_type": "markdown",
   "metadata": {},
   "source": [
    "This notebook calculates Pi to 1000 decimal places using the algorithm of Ramanujan (1914), which can be found here: https://en.wikipedia.org/wiki/Ramanujan–Sato_series\n",
    "\n",
    "The code makes use of several Python libraries, most importantly the decimal library which allows for \"bignum\" decimal representations to arbitrary precision.  "
   ]
  },
  {
   "cell_type": "code",
   "execution_count": 2,
   "metadata": {},
   "outputs": [],
   "source": [
    "from scipy.special import factorial\n",
    "import decimal"
   ]
  },
  {
   "cell_type": "markdown",
   "metadata": {},
   "source": [
    "Next, we define the decimal precision (number of decimal places + 1 in this case ... Pi to 1000 decimals corresponds to 1001 significant figures)"
   ]
  },
  {
   "cell_type": "code",
   "execution_count": 3,
   "metadata": {},
   "outputs": [],
   "source": [
    "decimal.getcontext().prec = 1001"
   ]
  },
  {
   "cell_type": "markdown",
   "metadata": {},
   "source": [
    "Now, we define the various constants used in the Ramanujan formula ... note in particular that we must use the decimal library's implementation of \"sqrt\", as neither the native Python nor even the numpy versions have the required precision."
   ]
  },
  {
   "cell_type": "code",
   "execution_count": 4,
   "metadata": {},
   "outputs": [],
   "source": [
    "a = decimal.Decimal(26390)\n",
    "b = decimal.Decimal(1103)\n",
    "d = decimal.Decimal(8).sqrt()\n",
    "e = decimal.Decimal(9801)"
   ]
  },
  {
   "cell_type": "markdown",
   "metadata": {},
   "source": [
    "We now loop over iteration number, and calculate at each iteration the next term in the sum.  We keep track of the value of the sum, and the value of Pi, at each iteration (though of course the latter is not really necessary, but was useful for debugging :)  The choice of 126 iterations is the exact number required to generate Pi accurately to 1000 decimal places."
   ]
  },
  {
   "cell_type": "code",
   "execution_count": 13,
   "metadata": {},
   "outputs": [
    {
     "name": "stdout",
     "output_type": "stream",
     "text": [
      "3.1415926535897932384626433832795028841971693993751058209749445923078164062862089986280348253421170679821480865132823066470938446095505822317253594081284811174502841027019385211055596446229489549303819644288109756659334461284756482337867831652712019091456485669234603486104543266482133936072602491412737245870066063155881748815209209628292540917153643678925903600113305305488204665213841469519415116094330572703657595919530921861173819326117931051185480744623799627495673518857527248912279381830119491298336733624406566430860213949463952247371907021798609437027705392171762931767523846748184676694051320005681271452635608277857713427577896091736371787214684409012249534301465495853710507922796892589235420199561121290219608640344181598136297747713099605187072113499999983729780499510597317328160963185950244594553469083026425223082533446850352619311881710100031378387528865875332083814206171776691473035982534904287554687311595628638823537875937519577818577805321712268066130019278766111959092164201984\n"
     ]
    }
   ],
   "source": [
    "pisum = decimal.Decimal(0)\n",
    "for i in range(126):\n",
    "    term1 = decimal.Decimal(factorial(4*i,exact=True))\n",
    "    term2 = decimal.Decimal(pow(factorial(i,exact=True),4))\n",
    "    term3 = decimal.Decimal(term1/term2*(a*decimal.Decimal(i)+b)/decimal.Decimal(396**(4*i)))\n",
    "    pisum = pisum + term3\n",
    "    pitemp1 = pisum*d/e\n",
    "    pitemp = decimal.Decimal(1)/pitemp1\n",
    "\n",
    "print(pitemp)\n"
   ]
  },
  {
   "cell_type": "code",
   "execution_count": null,
   "metadata": {},
   "outputs": [],
   "source": []
  },
  {
   "cell_type": "code",
   "execution_count": null,
   "metadata": {},
   "outputs": [],
   "source": []
  },
  {
   "cell_type": "code",
   "execution_count": null,
   "metadata": {},
   "outputs": [],
   "source": []
  }
 ],
 "metadata": {
  "kernelspec": {
   "display_name": "Python 3",
   "language": "python",
   "name": "python3"
  },
  "language_info": {
   "codemirror_mode": {
    "name": "ipython",
    "version": 3
   },
   "file_extension": ".py",
   "mimetype": "text/x-python",
   "name": "python",
   "nbconvert_exporter": "python",
   "pygments_lexer": "ipython3",
   "version": "3.7.3"
  }
 },
 "nbformat": 4,
 "nbformat_minor": 2
}
