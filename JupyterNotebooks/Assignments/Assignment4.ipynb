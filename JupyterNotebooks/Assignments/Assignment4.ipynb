{
 "cells": [
  {
   "cell_type": "code",
   "execution_count": 4,
   "id": "initial_id",
   "metadata": {
    "collapsed": true,
    "ExecuteTime": {
     "end_time": "2024-02-14T20:59:30.729418Z",
     "start_time": "2024-02-14T20:59:30.723922Z"
    }
   },
   "outputs": [
    {
     "name": "stdout",
     "output_type": "stream",
     "text": [
      "The capacitance of the capacitor is 13.615384615384615 nF\n",
      "The charge on the capacitor is 35.4 C\n"
     ]
    }
   ],
   "source": [
    "# 4.1\n",
    "\n",
    "d = 650.0 # distance in m\n",
    "area = 1.0 # area in km^2\n",
    "\n",
    "A = area* 1e6 # area in m^2\n",
    "eps0 = 8.85e-12 # permittivity of free space in C^2/Nm^2\n",
    "\n",
    "# calculate the capacitance\n",
    "C = (eps0 * A) / d\n",
    "C_nF = C * 1e9\n",
    "\n",
    "print(f\"The capacitance of the capacitor is {C_nF} nF\")\n",
    "\n",
    "E = 4.00E06 # electric field in N/C\n",
    "\n",
    "# Calculate the voltage\n",
    "V = E * d\n",
    "\n",
    "# calculate the charge\n",
    "Q = C * V\n",
    "\n",
    "print(f\"The charge on the capacitor is {Q} C\")"
   ]
  },
  {
   "cell_type": "code",
   "outputs": [
    {
     "name": "stdout",
     "output_type": "stream",
     "text": [
      "The distance between the plates is 3.6472727272727266 um\n"
     ]
    }
   ],
   "source": [
    "# 4.2\n",
    "\n",
    "sigma = 33.0 # surface charge density in nC/cm^2\n",
    "sigma = sigma * 1e-9 # surface charge density in C/cm^2\n",
    "sigma = sigma * 1e4 # surface charge density in C/m^2\n",
    "\n",
    "# calculate the electric field\n",
    "E = sigma / eps0\n",
    "\n",
    "V = 136.0 # voltage in V\n",
    "\n",
    "# calculate the distance\n",
    "d = V / E\n",
    "d_um = d * 1e6\n",
    "\n",
    "print(f\"The distance between the plates is {d_um} um\")"
   ],
   "metadata": {
    "collapsed": false,
    "ExecuteTime": {
     "end_time": "2024-02-14T21:01:45.072549Z",
     "start_time": "2024-02-14T21:01:45.069566Z"
    }
   },
   "id": "e238930a0bd1d293",
   "execution_count": 6
  },
  {
   "cell_type": "code",
   "outputs": [
    {
     "name": "stdout",
     "output_type": "stream",
     "text": [
      "The potential difference between the points is 212.0 V\n"
     ]
    }
   ],
   "source": [
    "# 4.3\n",
    "\n",
    "Ex = 0.0 # electric field in N/C in x direction\n",
    "Ey = -265.0 # electric field in N/C in y direction\n",
    "\n",
    "Ax = -0.200\n",
    "Ay = -0.300\n",
    "\n",
    "Bx = 0.400\n",
    "By = 0.500\n",
    "\n",
    "# calculate the potential difference\n",
    "Delta_V = -Ex * (Bx - Ax) - Ey * (By - Ay)\n",
    "\n",
    "print(f\"The potential difference between the points is {Delta_V} V\")"
   ],
   "metadata": {
    "collapsed": false,
    "ExecuteTime": {
     "end_time": "2024-02-14T21:05:02.712337Z",
     "start_time": "2024-02-14T21:05:02.707979Z"
    }
   },
   "id": "55b4de3d60fddd50",
   "execution_count": 7
  },
  {
   "cell_type": "code",
   "outputs": [
    {
     "name": "stdout",
     "output_type": "stream",
     "text": [
      "The potential difference between the points is 212.0 V\n"
     ]
    }
   ],
   "source": [
    "# 4.3 - Method 2\n",
    "\n",
    "import numpy as np\n",
    "\n",
    "E = np.array([0.0, -265.0]) # electric field in N/C\n",
    "A = np.array([-0.200, -0.300])\n",
    "B = np.array([0.400, 0.500])\n",
    "C = B - A\n",
    "\n",
    "# calculate the potential difference\n",
    "Delta_V = -np.dot(E, C)\n",
    "\n",
    "print(f\"The potential difference between the points is {Delta_V} V\")"
   ],
   "metadata": {
    "collapsed": false,
    "ExecuteTime": {
     "end_time": "2024-02-14T21:07:28.027121Z",
     "start_time": "2024-02-14T21:07:26.853740Z"
    }
   },
   "id": "db44efe2b59422b",
   "execution_count": 9
  },
  {
   "cell_type": "code",
   "outputs": [
    {
     "name": "stdout",
     "output_type": "stream",
     "text": [
      "The electric field between the plates is 1.3866666666666665 MN/C\n"
     ]
    }
   ],
   "source": [
    "# 4.4\n",
    "\n",
    "delta_V = 24960.0 # potential difference in V\n",
    "d = 1.80 # distance in cm\n",
    "d = d * 1e-2 # distance in m\n",
    "\n",
    "# calculate the electric field\n",
    "E = delta_V / d\n",
    "E_MN = E * 1e-6\n",
    "\n",
    "print(f\"The electric field between the plates is {E_MN} MN/C\")"
   ],
   "metadata": {
    "collapsed": false,
    "ExecuteTime": {
     "end_time": "2024-02-14T21:11:57.405169Z",
     "start_time": "2024-02-14T21:11:57.400392Z"
    }
   },
   "id": "d40d281d66599872",
   "execution_count": 11
  },
  {
   "cell_type": "code",
   "outputs": [
    {
     "data": {
      "text/plain": "<Figure size 640x480 with 1 Axes>",
      "image/png": "[encoded data removed]"
     },
     "metadata": {},
     "output_type": "display_data"
    }
   ],
   "source": [
    "# 4.5\n",
    "\n",
    "x1 = 0.00 # x coordinate in m\n",
    "x2 = 2.50 # x coordinate in m\n",
    "\n",
    "q1 = 1.00e-12 # charge in C\n",
    "q2 = -2.00e-12 # charge in C\n",
    "\n",
    "# Calculate the electric field as a function of x\n",
    "\n",
    "def E(x):\n",
    "    k = 8.99e9 # Coulomb's constant in Nm^2/C^2\n",
    "    E1 = k * q1 / np.abs((x - x1)**3) * (x - x1)\n",
    "    E2 = k * q2 / np.abs((x - x2)**3) * (x - x2)\n",
    "    return E1 + E2\n",
    "\n",
    "# Plot the electric field as a function of x\n",
    "\n",
    "import matplotlib.pyplot as plt\n",
    "\n",
    "x = np.linspace(-7, 7, 100)\n",
    "y = E(x)\n",
    "\n",
    "plt.plot(x, y)\n",
    "plt.xlabel('x (m)')\n",
    "plt.ylabel('E (N/C)')\n",
    "plt.title('Electric field as a function of x')\n",
    "plt.show()"
   ],
   "metadata": {
    "collapsed": false,
    "ExecuteTime": {
     "end_time": "2024-02-14T21:50:26.746359Z",
     "start_time": "2024-02-14T21:50:26.682099Z"
    }
   },
   "id": "53dcadff67bf90ba",
   "execution_count": 62
  },
  {
   "cell_type": "markdown",
   "source": [
    "# Analytical solution\n",
    "\n",
    "## Region I: x < 0\n",
    "\n",
    "$$E_1 = - \\frac{kq}{x^2}$$\n",
    "$$E_2 = \\frac{2kq}{(-x+2.5)^2}$$\n",
    "\n",
    "$$E = E_1 + E_2$$\n",
    "\n",
    "$$E = - \\frac{kq}{x^2} + \\frac{2kq}{(-x+2.5)^2} = 0$$\n",
    "\n",
    "$$\\frac{kq}{x^2} = \\frac{2kq}{(-x+2.5)^2}$$\n",
    "\n",
    "$$(-x+2.5)^2 = 2x^2$$\n",
    "\n",
    "$$x^2 - 5x + 6.25 = 2x^2$$\n",
    "\n",
    "$$x^2 + 5x - 6.25 = 0$$\n",
    "\n",
    "$$x = \\frac{-5 \\pm \\sqrt{5^2 - 4(1)(-6.25)}}{2(1)}$$\n",
    "\n",
    "$$x = \\frac{-5 \\pm \\sqrt{25 + 25}}{2}$$\n",
    "\n",
    "$$x = \\frac{-5 \\pm \\sqrt{50}}{2}$$\n",
    "\n",
    "$$x = \\frac{-5 \\pm 5\\sqrt{2}}{2}$$\n",
    "\n",
    "$$x = -2.5 \\pm 2.5\\sqrt{2}$$\n",
    "\n",
    "We discard the POSITIVE root since it is not in the region of interest.\n",
    "\n",
    "$$x = -2.5 - 2.5\\sqrt{2}$$\n",
    "\n",
    "Numerically, we get\n",
    "\n",
    "$$x = -6.04$$"
   ],
   "metadata": {
    "collapsed": false
   },
   "id": "46c854259a3d7750"
  },
  {
   "cell_type": "code",
   "outputs": [],
   "source": [],
   "metadata": {
    "collapsed": false
   },
   "id": "528a9cab7ca4a697"
  }
 ],
 "metadata": {
  "kernelspec": {
   "display_name": "Python 3",
   "language": "python",
   "name": "python3"
  },
  "language_info": {
   "codemirror_mode": {
    "name": "ipython",
    "version": 2
   },
   "file_extension": ".py",
   "mimetype": "text/x-python",
   "name": "python",
   "nbconvert_exporter": "python",
   "pygments_lexer": "ipython2",
   "version": "2.7.6"
  }
 },
 "nbformat": 4,
 "nbformat_minor": 5
}
