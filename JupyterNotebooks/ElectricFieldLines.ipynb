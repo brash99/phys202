{
 "cells": [
  {
   "cell_type": "markdown",
   "source": [
    "# Electric Field Lines\n",
    "\n",
    "As we discussed in class, there are two ways to visualize the electric field. One is to draw the field vectors, and the other is to draw the field lines. \n",
    "\n",
    "In this first section, we will draw the field lines for a point charge and a dipole.\n",
    "\n",
    "## Point Charge\n",
    "\n",
    "The electric field for a point charge is given by\n",
    "\n",
    "$$\\vec{E} = k_e \\frac{q}{r^2}\\hat{r}$$\n",
    "\n",
    "where $k_e$ is the Coulomb constant, $q$ is the charge, $r$ is the distance from the charge, and $\\hat{r}$ is the unit vector pointing from the charge to the point in space where we are calculating the field.\n",
    "\n",
    "Expressing in term of the Cartesian components on the field, we have\n",
    "\n",
    "$$\\vec{E} = k_e \\frac{q}{r^3}(x\\hat{i} + y\\hat{j} + z\\hat{k})$$\n",
    "\n",
    "where $r = \\sqrt{x^2 + y^2 + z^2}$.  So, individual components of the field are\n",
    "\n",
    "$$E_x = k_e \\frac{q}{r^3}x$$\n",
    "$$E_y = k_e \\frac{q}{r^3}y$$\n",
    "$$E_z = k_e \\frac{q}{r^3}z$$\n",
    "\n",
    "The field lines are drawn by calculating the field at a large number of points in space and then drawing a line that is tangent to the field at each point.\n",
    "\n",
    "The following code calculates the field at (100x100) points in the x-y plane and then draws the field lines."
   ],
   "metadata": {
    "collapsed": false
   },
   "id": "80af751d910a218d"
  },
  {
   "cell_type": "code",
   "outputs": [],
   "source": [
    "import numpy as np\n",
    "import matplotlib.pyplot as plt\n",
    "\n",
    "# Point Charge located at the origin\n",
    "\n",
    "ke = 8.99e9 # Coulomb constant\n",
    "q = 1e-9 # Charge in nC\n",
    "\n",
    "# Calculate the field at 100 points in the x-y plane\n",
    "\n",
    "# Set up the grid\n",
    "x = np.linspace(-1,1,100)\n",
    "y = np.linspace(-1,1,100)\n",
    "X,Y = np.meshgrid(x,y)\n",
    "\n",
    "# Calculate the field at each point\n",
    "r = np.sqrt(X**2 + Y**2)\n",
    "Ex = ke*q*X/r**3\n",
    "Ey = ke*q*Y/r**3\n",
    "E = np.sqrt(Ex**2 + Ey**2)\n",
    "\n",
    "# Draw the field lines\n",
    "fig, ax = plt.subplots(1,1, figsize=(8,8))\n",
    "ax.streamplot(X,Y,Ex,Ey,density=1, color=np.log(E), linewidth=2, cmap='winter')\n",
    "\n",
    "# Draw the charge\n",
    "ax.scatter([0],[0], s=100, c='r')\n",
    "ax.add_artist(plt.Circle((0,0), 0.01, color='r'))\n",
    "\n",
    "ax.set_xlabel('x')\n",
    "ax.set_ylabel('y')\n",
    "ax.set_xlim(-1,1)\n",
    "ax.set_ylim(-1,1)\n",
    "ax.set_aspect('equal')\n",
    "plt.show()"
   ],
   "metadata": {
    "collapsed": false,
    "is_executing": true
   },
   "id": "7c4e0990803bd919",
   "execution_count": null
  },
  {
   "cell_type": "code",
   "outputs": [],
   "source": [
    "# Electric Dipols\n",
    "#\n",
    "# Charge -q at (0,-d/2)\n",
    "# Charge +q at (0,+d/2)\n",
    "#\n",
    "x = np.linspace(-1,1,100)\n",
    "y = np.linspace(-1,1,100)\n",
    "X,Y = np.meshgrid(x,y)\n",
    "\n",
    "d = 0.5\n",
    "q1 = -1e-9\n",
    "q2 = 1e-9\n",
    "\n",
    "r1 = np.sqrt((X+d/2)**2 + (Y)**2)\n",
    "r2 = np.sqrt((X-d/2)**2 + (Y)**2)\n",
    "\n",
    "Ex = ke*(q1*(X+d/2)/r1**3 + q2*(X-d/2)/r2**3)\n",
    "Ey = ke*(q1*Y/r1**3 + q2*Y/r2**3)\n",
    "E = np.sqrt(Ex**2 + Ey**2)\n",
    "\n",
    "fig, ax = plt.subplots(1,1, figsize=(8,8))\n",
    "ax.streamplot(X,Y,Ex,Ey, density=1, color=np.log(E), linewidth=2, cmap='winter')\n",
    "\n",
    "# Draw the charges\n",
    "ax.scatter([d/2,-d/2],[0,0], s=100, c='r')\n",
    "ax.add_artist(plt.Circle((d/2,0), 0.01, color='r'))\n",
    "ax.add_artist(plt.Circle((-d/2,0), 0.01, color='r'))\n",
    "\n",
    "ax.set_xlabel('x')\n",
    "ax.set_ylabel('y')\n",
    "ax.set_xlim(-1,1)\n",
    "ax.set_ylim(-1,1)\n",
    "ax.set_aspect('equal')\n",
    "plt.show()"
   ],
   "metadata": {
    "collapsed": false,
    "is_executing": true,
    "ExecuteTime": {
     "start_time": "2024-02-20T18:04:48.827203Z"
    }
   },
   "id": "8032752c3a817522",
   "execution_count": null
  },
  {
   "cell_type": "code",
   "outputs": [],
   "source": [
    "# Electric Quadrupole\n",
    "\n",
    "# Charge -q at (0,-d/2)\n",
    "# Charge +q at (0,+d/2)\n",
    "# Charge +q at (-d/2,0)\n",
    "# Charge -q at (+d/2,0)\n",
    "\n",
    "x = np.linspace(-1,1,100)\n",
    "y = np.linspace(-1,1,100)\n",
    "X,Y = np.meshgrid(x,y)\n",
    "\n",
    "d = 0.5\n",
    "q1 = -1e-9\n",
    "q2 = 1e-9\n",
    "q3 = 1e-9\n",
    "q4 = -1e-9\n",
    "\n",
    "r1 = np.sqrt((X+d/2)**2 + (Y)**2)\n",
    "r2 = np.sqrt((X-d/2)**2 + (Y)**2)\n",
    "r3 = np.sqrt((X)**2 + (Y+d/2)**2)\n",
    "r4 = np.sqrt((X)**2 + (Y-d/2)**2)\n",
    "\n",
    "Ex = ke*(q1*(X+d/2)/r1**3 + q2*(X-d/2)/r2**3 + q3*X/r3**3 + q4*X/r4**3)\n",
    "Ey = ke*(q1*Y/r1**3 + q2*Y/r2**3 + q3*(Y+d/2)/r3**3 + q4*(Y-d/2)/r4**3)\n",
    "E = np.sqrt(Ex**2 + Ey**2)\n",
    "\n",
    "fig, ax = plt.subplots(1,1, figsize=(8,8))\n",
    "ax.streamplot(X,Y,Ex,Ey, density=1, color=np.log(E), linewidth=2, cmap='winter')\n",
    "\n",
    "# Draw the charges\n",
    "ax.scatter([d/2,-d/2,0,0],[0,0,d/2,-d/2], s=100, c='r')\n",
    "ax.add_artist(plt.Circle((d/2,0), 0.01, color='r'))\n",
    "ax.add_artist(plt.Circle((-d/2,0), 0.01, color='r'))\n",
    "ax.add_artist(plt.Circle((0,d/2), 0.01, color='r'))\n",
    "ax.add_artist(plt.Circle((0,-d/2), 0.01, color='r'))\n",
    "\n",
    "ax.set_xlabel('x')\n",
    "ax.set_ylabel('y')\n",
    "ax.set_xlim(-1,1)\n",
    "ax.set_ylim(-1,1)\n",
    "ax.set_aspect('equal')\n",
    "plt.show()"
   ],
   "metadata": {
    "collapsed": false,
    "is_executing": true,
    "ExecuteTime": {
     "start_time": "2024-02-20T18:04:49.107600Z"
    }
   },
   "id": "23cf2506cd613484",
   "execution_count": null
  },
  {
   "cell_type": "code",
   "outputs": [],
   "source": [
    "# Let's make a function that will draw the field lines for any set of charges, and also draw the equipotential lines, if desired.\n",
    "\n",
    "def DrawELines(Q, XQ, YQ, xl=-1, xh=1, yl=-1, yh=1, showV = False):\n",
    "    # Q is a list of charges\n",
    "    # XQ and YQ are positions of the charges\n",
    "    # Calculate the field at 100 points in the x-y plan\n",
    "    # xl, xh, yl, yh, are the plot limits)\n",
    "    \n",
    "    n_charges = len(Q)\n",
    "    \n",
    "    # Set up the grid\n",
    "    x = np.linspace(xl,xh,100)\n",
    "    y = np.linspace(yl,yh,100)\n",
    "    X,Y = np.meshgrid(x,y)\n",
    "    \n",
    "    Ex = np.zeros((100,100))\n",
    "    Ey = np.zeros((100,100))\n",
    "    \n",
    "    for i in range(n_charges):\n",
    "        r = np.sqrt((X-XQ[i])**2 + (Y-YQ[i])**2)\n",
    "        Ex += ke*Q[i]*(X-XQ[i])/r**3\n",
    "        Ey += ke*Q[i]*(Y-YQ[i])/r**3\n",
    "        E = np.sqrt(Ex**2 + Ey**2)\n",
    "\n",
    "    # Draw the field lines\n",
    "    fig, ax = plt.subplots(1,1, figsize=(8,8))\n",
    "    ax.streamplot(X,Y,Ex,Ey, density=1, color=np.log(E), linewidth=2, cmap='winter')\n",
    "\n",
    "    # Draw the charges\n",
    "    for i in range(n_charges):\n",
    "        ax.scatter([XQ[i]],[YQ[i]], s=100, c='r')\n",
    "        ax.add_artist(plt.Circle((XQ[i],YQ[i]), 0.01, color='r'))\n",
    "    ax.set_xlabel('x')\n",
    "    ax.set_ylabel('y')\n",
    "    ax.set_xlim(xl,xh)\n",
    "    ax.set_ylim(yl,yh)\n",
    "    \n",
    "    if (showV):\n",
    "        V = np.zeros((100,100))\n",
    "        for i in range(n_charges):\n",
    "            r = np.sqrt((X-XQ[i])**2 + (Y-YQ[i])**2)\n",
    "            V += ke*Q[i]/r\n",
    "        ax.contour(X,Y,V, 100)\n",
    "\n",
    "    plt.show()"
   ],
   "metadata": {
    "collapsed": false,
    "is_executing": true,
    "ExecuteTime": {
     "start_time": "2024-02-20T18:04:49.408297Z"
    }
   },
   "id": "a948d6c326dd8451",
   "execution_count": null
  },
  {
   "cell_type": "code",
   "outputs": [],
   "source": [
    "# Point charge at (0,0)\n",
    "\n",
    "Q = [1e-9]\n",
    "XQ = [0]\n",
    "YQ = [0]\n",
    "\n",
    "DrawELines(Q, XQ, YQ, showV = True)"
   ],
   "metadata": {
    "collapsed": false,
    "is_executing": true,
    "ExecuteTime": {
     "start_time": "2024-02-20T18:04:49.414111Z"
    }
   },
   "id": "4791e9c376f68314",
   "execution_count": null
  },
  {
   "cell_type": "code",
   "outputs": [],
   "source": [
    "# Electric Dipole\n",
    "\n",
    "Q = [1e-9, -1e-9]\n",
    "XQ = [-0.25,0.25]\n",
    "YQ = [0.0,0.0]\n",
    "\n",
    "DrawELines(Q, XQ, YQ, showV = True)"
   ],
   "metadata": {
    "collapsed": false,
    "is_executing": true,
    "ExecuteTime": {
     "start_time": "2024-02-20T18:04:49.784571Z"
    }
   },
   "id": "40e512e3a3db63da",
   "execution_count": null
  },
  {
   "cell_type": "code",
   "outputs": [],
   "source": [
    "# Line of charge\n",
    "\n",
    "Q = [1e-9]*1000\n",
    "XQ = np.linspace(-1,1,1000)\n",
    "YQ = np.zeros(1000)\n",
    "\n",
    "DrawELines(Q, XQ, YQ, -2, 2, -2, 2, showV = True)"
   ],
   "metadata": {
    "collapsed": false,
    "is_executing": true,
    "ExecuteTime": {
     "start_time": "2024-02-20T18:04:50.070981Z"
    }
   },
   "id": "f0b9e245d2b13fce",
   "execution_count": null
  },
  {
   "cell_type": "code",
   "outputs": [],
   "source": [
    "# Draw equipotential lines\n",
    "\n",
    "def DrawEquipotential(Q, XQ, YQ, xl=-1, xh=1, yl=-1, yh=1):\n",
    "    # Q is a list of charges\n",
    "    # XQ and YQ are positions of the charges\n",
    "    # Calculate the field at 100 points in the x-y plan\n",
    "    # xl, xh, yl, yh, are the plot limits)\n",
    "    \n",
    "    n_charges = len(Q)\n",
    "    \n",
    "    # Set up the grid\n",
    "    x = np.linspace(xl,xh,100)\n",
    "    y = np.linspace(yl,yh,100)\n",
    "    X,Y = np.meshgrid(x,y)\n",
    "    \n",
    "    V = np.zeros((100,100))\n",
    "    \n",
    "    for i in range(n_charges):\n",
    "        r = np.sqrt((X-XQ[i])**2 + (Y-YQ[i])**2)\n",
    "        V += ke*Q[i]/r\n",
    "\n",
    "    # Draw the field lines\n",
    "    fig, ax = plt.subplots(1,1, figsize=(8,8))\n",
    "    #ax.contour(X,Y,V, 100, colors='g')\n",
    "    ax.contour(X,Y,V,100)\n",
    "\n",
    "    # Draw the charges\n",
    "    for i in range(n_charges):\n",
    "        ax.scatter([XQ[i]],[YQ[i]], s=100, c='r')\n",
    "        ax.add_artist(plt.Circle((XQ[i],YQ[i]), 0.01, color='r'))\n",
    "    ax.set_xlabel('x')\n",
    "    ax.set_ylabel('y')\n",
    "    ax.set_xlim(xl,xh)\n",
    "    ax.set_ylim(yl,yh)\n",
    "\n",
    "    plt.show()"
   ],
   "metadata": {
    "collapsed": false,
    "is_executing": true,
    "ExecuteTime": {
     "start_time": "2024-02-20T18:04:53.232164Z"
    }
   },
   "id": "c6da0e3d9b4f07e6",
   "execution_count": null
  },
  {
   "cell_type": "code",
   "outputs": [],
   "source": [
    "# Point charge at (0,0)\n",
    "\n",
    "Q = [1e-9]\n",
    "XQ = [0]\n",
    "YQ = [0]\n",
    "\n",
    "DrawEquipotential(Q, XQ, YQ)"
   ],
   "metadata": {
    "collapsed": false,
    "is_executing": true,
    "ExecuteTime": {
     "start_time": "2024-02-20T18:04:53.233908Z"
    }
   },
   "id": "9f0683f81b9cb226",
   "execution_count": null
  },
  {
   "cell_type": "code",
   "outputs": [],
   "source": [
    "# Electric Dipole\n",
    "\n",
    "Q = [1e-9, -1e-9]\n",
    "XQ = [-0.25,0.25]\n",
    "YQ = [0.0,0.0]\n",
    "\n",
    "DrawEquipotential(Q, XQ, YQ)\n"
   ],
   "metadata": {
    "collapsed": false,
    "is_executing": true,
    "ExecuteTime": {
     "start_time": "2024-02-20T18:04:53.319272Z"
    }
   },
   "id": "a7e9ada27c6e4eb",
   "execution_count": null
  },
  {
   "cell_type": "code",
   "outputs": [],
   "source": [
    "# Assignment 2, Question 10\n",
    "\n",
    "Q = [-1e-9, 3e-9]\n",
    "XQ = [0.0,0.0]\n",
    "YQ = [-0.5,0.5]\n",
    "\n",
    "DrawELines(Q, XQ, YQ)"
   ],
   "metadata": {
    "collapsed": false,
    "is_executing": true,
    "ExecuteTime": {
     "start_time": "2024-02-20T18:04:53.405652Z"
    }
   },
   "id": "ef23d0bea83fc0ec",
   "execution_count": null
  },
  {
   "cell_type": "code",
   "outputs": [],
   "source": [
    "# Assignment 2, Question 8\n",
    "\n",
    "Q = [1e-9]*1000\n",
    "\n",
    "thetaQ = np.linspace(0,np.pi,1000)\n",
    "XQ = -np.sin(thetaQ)\n",
    "YQ = np.cos(thetaQ)\n",
    "\n",
    "DrawELines(Q, XQ, YQ, -2, 2, -2, 2)"
   ],
   "metadata": {
    "collapsed": false,
    "is_executing": true,
    "ExecuteTime": {
     "start_time": "2024-02-20T18:04:53.671128Z"
    }
   },
   "id": "9694193f3532980a",
   "execution_count": null
  },
  {
   "cell_type": "code",
   "outputs": [],
   "source": [
    "# Assignment 2, Question 8\n",
    "\n",
    "Q = [1e-9]*1000\n",
    "\n",
    "thetaQ = np.linspace(0,2*np.pi,1000)\n",
    "XQ = -np.sin(thetaQ)\n",
    "YQ = np.cos(thetaQ)\n",
    "\n",
    "DrawELines(Q, XQ, YQ, -4, 4, -4, 4)"
   ],
   "metadata": {
    "collapsed": false,
    "is_executing": true,
    "ExecuteTime": {
     "start_time": "2024-02-20T18:04:56.702209Z"
    }
   },
   "id": "52ca31325e91d2ac",
   "execution_count": null
  },
  {
   "cell_type": "code",
   "outputs": [],
   "source": [
    "# Parallel Plates\n",
    "\n",
    "Qtop = [1e-9]*1000\n",
    "Qbottom = [-1e-9]*1000\n",
    "Q = Qtop + Qbottom\n",
    "\n",
    "XQtop = np.linspace(-1,1,1000)\n",
    "YQtop = np.ones(1000)*0.5\n",
    "\n",
    "XQbottom = np.linspace(-1,1,1000)\n",
    "YQbottom = -np.ones(1000)*0.5\n",
    "\n",
    "XQ = np.concatenate((XQtop, XQbottom))\n",
    "YQ = np.concatenate((YQtop, YQbottom))\n",
    "\n",
    "DrawELines(Q, XQ, YQ, -2, 2, -2, 2, showV = False)\n",
    "\n"
   ],
   "metadata": {
    "collapsed": false,
    "is_executing": true,
    "ExecuteTime": {
     "start_time": "2024-02-20T18:04:59.908851Z"
    }
   },
   "id": "81ff0eb17a7e108f",
   "execution_count": null
  },
  {
   "cell_type": "code",
   "outputs": [],
   "source": [
    "DrawELines(Q, XQ, YQ, -2, 2, -2, 2, showV = True)"
   ],
   "metadata": {
    "collapsed": false,
    "is_executing": true,
    "ExecuteTime": {
     "start_time": "2024-02-20T18:05:06.866192Z"
    }
   },
   "id": "25201af5b9d48c25",
   "execution_count": null
  },
  {
   "cell_type": "code",
   "outputs": [],
   "source": [],
   "metadata": {
    "collapsed": false,
    "is_executing": true
   },
   "id": "a46e87b13a9822b1"
  }
 ],
 "metadata": {
  "kernelspec": {
   "display_name": "Python 3",
   "language": "python",
   "name": "python3"
  },
  "language_info": {
   "codemirror_mode": {
    "name": "ipython",
    "version": 2
   },
   "file_extension": ".py",
   "mimetype": "text/x-python",
   "name": "python",
   "nbconvert_exporter": "python",
   "pygments_lexer": "ipython2",
   "version": "2.7.6"
  }
 },
 "nbformat": 4,
 "nbformat_minor": 5
}
