{
 "cells": [
  {
   "cell_type": "markdown",
   "metadata": {},
   "source": [
    "This notebook attempts to solve the following problem: A uniformly charged rod of length L = 1.9m lies along the x-axis with its right end at the origin.  The rod has a total charge of Q = 8.4 uC.  A point P is located on the x-axis a distance a = 2.4m to the right of the origin.  Calculate the magnitude of the electric field at point P, due to the charged rod.  We will solve this problem by doing numerical integration."
   ]
  },
  {
   "cell_type": "code",
   "metadata": {
    "ExecuteTime": {
     "end_time": "2025-01-30T19:01:05.722239Z",
     "start_time": "2025-01-30T19:01:05.719570Z"
    }
   },
   "source": [
    "import math"
   ],
   "outputs": [],
   "execution_count": 1
  },
  {
   "cell_type": "markdown",
   "metadata": {},
   "source": [
    "Next, we define the appropriate values, along with the number of \"steps\" for the integration, and set the total electric field initially equal to zero."
   ]
  },
  {
   "cell_type": "code",
   "metadata": {
    "ExecuteTime": {
     "end_time": "2025-01-30T19:01:12.777141Z",
     "start_time": "2025-01-30T19:01:12.775213Z"
    }
   },
   "source": [
    "nsteps = 10000000\n",
    "a = 2.4\n",
    "ke = 8.99E+09\n",
    "Q = 8.4E-06\n",
    "L = 1.9\n",
    "E_total = 0.0"
   ],
   "outputs": [],
   "execution_count": 2
  },
  {
   "cell_type": "markdown",
   "metadata": {},
   "source": [
    "Now, we define a small \"slice\" of the rod, dx, and calculate the amount of charge in this small slice."
   ]
  },
  {
   "cell_type": "code",
   "metadata": {
    "ExecuteTime": {
     "end_time": "2025-01-30T19:01:13.858491Z",
     "start_time": "2025-01-30T19:01:13.856685Z"
    }
   },
   "source": [
    "dx = 1.0*L/nsteps\n",
    "dq = Q*dx/L"
   ],
   "outputs": [],
   "execution_count": 3
  },
  {
   "cell_type": "markdown",
   "metadata": {},
   "source": [
    "We now loop over the entire length of the rod.  At each step, we calculate the position of the slice, x, and the contribution to the electric field, dE, using the expression for the electric field due to a point charge.  We add this contribution to the total electric field for each step.  When the loop is finished, we print out the total electric field, and also the exact answer (using calculus)."
   ]
  },
  {
   "cell_type": "code",
   "metadata": {
    "ExecuteTime": {
     "end_time": "2025-01-30T19:01:19.443423Z",
     "start_time": "2025-01-30T19:01:17.296984Z"
    }
   },
   "source": [
    "for i in range(0,nsteps):\n",
    "    x = -1.0*L+i*dx\n",
    "    dE = ke*dq/((a-x)*(a-x))\n",
    "    E_total = E_total + dE\n",
    "\n",
    "print (\"E_total = \",E_total)\n",
    "E_exact = ke*Q/(a*(a+L))\n",
    "print (\"E_exact = \",E_exact)"
   ],
   "outputs": [
    {
     "name": "stdout",
     "output_type": "stream",
     "text": [
      "E_total =  7317.441409152774\n",
      "E_exact =  7317.441860465117\n"
     ]
    }
   ],
   "execution_count": 4
  },
  {
   "cell_type": "code",
   "metadata": {
    "ExecuteTime": {
     "end_time": "2025-01-30T19:01:19.935396Z",
     "start_time": "2025-01-30T19:01:19.934044Z"
    }
   },
   "source": [],
   "outputs": [],
   "execution_count": null
  },
  {
   "cell_type": "code",
   "metadata": {
    "ExecuteTime": {
     "end_time": "2025-01-30T19:01:24.523307Z",
     "start_time": "2025-01-30T19:01:24.521904Z"
    }
   },
   "source": [],
   "outputs": [],
   "execution_count": null
  },
  {
   "metadata": {},
   "cell_type": "code",
   "outputs": [],
   "execution_count": null,
   "source": ""
  }
 ],
 "metadata": {
  "kernelspec": {
   "display_name": "Python 3",
   "language": "python",
   "name": "python3"
  },
  "language_info": {
   "codemirror_mode": {
    "name": "ipython",
    "version": 3
   },
   "file_extension": ".py",
   "mimetype": "text/x-python",
   "name": "python",
   "nbconvert_exporter": "python",
   "pygments_lexer": "ipython3",
   "version": "3.6.8"
  }
 },
 "nbformat": 4,
 "nbformat_minor": 2
}
