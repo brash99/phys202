{
 "cells": [
  {
   "cell_type": "markdown",
   "metadata": {},
   "source": [
    "This notebook calculates Pi to 1000 decimal places using the algorithm of Ramanujan (1914), which can be found here: https://en.wikipedia.org/wiki/Ramanujan–Sato_series\n",
    "\n",
    "The code makes use of several Python libraries, most importantly the decimal library which allows for \"bignum\" decimal representations to arbitrary precision.\n",
    "\n",
    "We will also compare to the true value of Pi to 1000 decimal places, at each iteration of the series, and plot those results to understand the scaling behaviour."
   ]
  },
  {
   "cell_type": "code",
   "execution_count": 1,
   "metadata": {},
   "outputs": [],
   "source": [
    "from scipy.special import factorial\n",
    "import decimal\n",
    "import matplotlib.pyplot as plt"
   ]
  },
  {
   "cell_type": "markdown",
   "metadata": {},
   "source": [
    "Next, we define the decimal precision (number of decimal places + 1 in this case ... Pi to 1000 decimals corresponds to 1001 significant figures).  We also define two arrays to hold the iteration number and the difference between the current value of Pi and the true value."
   ]
  },
  {
   "cell_type": "code",
   "execution_count": 2,
   "metadata": {},
   "outputs": [],
   "source": [
    "decimal.getcontext().prec = 1001\n",
    "x = [decimal.Decimal(0) for i in range(0,400)]\n",
    "y = [decimal.Decimal(0) for i in range(0,400)]"
   ]
  },
  {
   "cell_type": "markdown",
   "metadata": {},
   "source": [
    "We record the true value of Pi to 1000 decimal places."
   ]
  },
  {
   "cell_type": "code",
   "execution_count": 3,
   "metadata": {},
   "outputs": [
    {
     "name": "stdout",
     "output_type": "stream",
     "text": [
      "True value =  3.1415926535897932384626433832795028841971693993751058209749445923078164062862089986280348253421170679821480865132823066470938446095505822317253594081284811174502841027019385211055596446229489549303819644288109756659334461284756482337867831652712019091456485669234603486104543266482133936072602491412737245870066063155881748815209209628292540917153643678925903600113305305488204665213841469519415116094330572703657595919530921861173819326117931051185480744623799627495673518857527248912279381830119491298336733624406566430860213949463952247371907021798609437027705392171762931767523846748184676694051320005681271452635608277857713427577896091736371787214684409012249534301465495853710507922796892589235420199561121290219608640344181598136297747713099605187072113499999983729780499510597317328160963185950244594553469083026425223082533446850352619311881710100031378387528865875332083814206171776691473035982534904287554687311595628638823537875937519577818577805321712268066130019278766111959092164201984 \n",
      "\n"
     ]
    }
   ],
   "source": [
    "PiDigs = decimal.Decimal(31415926535897932384626433832795028841971693993751058209749445923078164062862089986280348253421170679821480865132823066470938446095505822317253594081284811174502841027019385211055596446229489549303819644288109756659334461284756482337867831652712019091456485669234603486104543266482133936072602491412737245870066063155881748815209209628292540917153643678925903600113305305488204665213841469519415116094330572703657595919530921861173819326117931051185480744623799627495673518857527248912279381830119491298336733624406566430860213949463952247371907021798609437027705392171762931767523846748184676694051320005681271452635608277857713427577896091736371787214684409012249534301465495853710507922796892589235420199561121290219608640344181598136297747713099605187072113499999983729780499510597317328160963185950244594553469083026425223082533446850352619311881710100031378387528865875332083814206171776691473035982534904287554687311595628638823537875937519577818577805321712268066130019278766111959092164201984)\n",
    "\n",
    "Pi = PiDigs/(10**1000)\n",
    "print (\"True value = \",Pi,\"\\n\")"
   ]
  },
  {
   "cell_type": "markdown",
   "metadata": {},
   "source": [
    "Now, we define the various constants used in the Ramanujan formula ... note in particular that we must use the decimal library's implementation of \"sqrt\", as neither the native Python nor even the numpy versions have the required precision."
   ]
  },
  {
   "cell_type": "code",
   "execution_count": 4,
   "metadata": {},
   "outputs": [],
   "source": [
    "a = decimal.Decimal(26390)\n",
    "b = decimal.Decimal(1103)\n",
    "d = decimal.Decimal(8).sqrt()\n",
    "e = decimal.Decimal(9801)"
   ]
  },
  {
   "cell_type": "markdown",
   "metadata": {},
   "source": [
    "We now loop over iteration number, and calculate at each iteration the next term in the sum.  We keep track of the value of the sum, and the value of Pi, at each iteration (though of course the latter is not really necessary, but was useful for debugging :)  The choice of 126 iterations is the exact number required to generate Pi accurately to 1000 decimal places."
   ]
  },
  {
   "cell_type": "code",
   "execution_count": 5,
   "metadata": {},
   "outputs": [
    {
     "name": "stdout",
     "output_type": "stream",
     "text": [
      "3.1415926535897932384626433832795028841971693993751058209749445923078164062862090425428080182788965939397166960456188132423080890105652461430953051641635493026613865133339063091858521730284891601008105826919466202661820458125587292509469353206707035216603482668213672797222681549363475806813416456988062521502415576498502496548461471063521206435114901974156135755006245692454416175478271835673053430202343599805041980065588224337498150446652456845655042214156120759109883914914728432589141650563716923769470824960999855770450675662120505141618125262419289924147129336839079325431669514644363336436098131533488601126270340247308672964642853159378045935608236341976456974013265434205571428179102291952503491157226767230362225011470600674729432787877702630021163945167575012667899214248393547084408401036932556831597853052296187223627483115540813228411269451835083218622996051594361758409998510990451125080752614385946756941919525531175163435060650250787510517461053969227744068850124068915872953440367492\n"
     ]
    }
   ],
   "source": [
    "pisum = decimal.Decimal(0)\n",
    "for i in range(10):\n",
    "    term1 = decimal.Decimal(factorial(4*i,exact=True))\n",
    "    term2 = decimal.Decimal(pow(factorial(i,exact=True),4))\n",
    "    term3 = decimal.Decimal(term1/term2*(a*decimal.Decimal(i)+b)/decimal.Decimal(396**(4*i)))\n",
    "    pisum = pisum + term3\n",
    "    pitemp1 = pisum*d/e\n",
    "    pitemp = decimal.Decimal(1)/pitemp1\n",
    "    pidiff = abs(pitemp-Pi)\n",
    "    x.append(i)\n",
    "    y.append(-decimal.Decimal(1.0)*decimal.Decimal(pidiff).log10())\n",
    "\n",
    "print(pitemp)\n"
   ]
  },
  {
   "cell_type": "markdown",
   "metadata": {},
   "source": [
    "Finally, we plot the results."
   ]
  },
  {
   "cell_type": "code",
   "execution_count": 6,
   "metadata": {},
   "outputs": [
    {
     "data": {
      "image/png": "[encoded data removed]",
      "text/plain": [
       "<Figure size 432x288 with 1 Axes>"
      ]
     },
     "metadata": {
      "needs_background": "light"
     },
     "output_type": "display_data"
    }
   ],
   "source": [
    "plt.scatter(x,y,label='Scaling Behaviour')\n",
    "plt.xlabel('Iteration Number')\n",
    "plt.ylabel('Number of Decimal Places')\n",
    "plt.title(\"Ramanujan's Pi Formula\")\n",
    "plt.legend()\n",
    "plt.show()\n"
   ]
  },
  {
   "cell_type": "markdown",
   "metadata": {},
   "source": [
    "It would appear that beyond iteration 2 or 3, the scaling is completely linear, and we gain 8 new digits of Pi at each iteration."
   ]
  },
  {
   "cell_type": "code",
   "execution_count": null,
   "metadata": {},
   "outputs": [],
   "source": []
  }
 ],
 "metadata": {
  "kernelspec": {
   "display_name": "Python 3",
   "language": "python",
   "name": "python3"
  },
  "language_info": {
   "codemirror_mode": {
    "name": "ipython",
    "version": 3
   },
   "file_extension": ".py",
   "mimetype": "text/x-python",
   "name": "python",
   "nbconvert_exporter": "python",
   "pygments_lexer": "ipython3",
   "version": "3.6.8"
  }
 },
 "nbformat": 4,
 "nbformat_minor": 2
}
