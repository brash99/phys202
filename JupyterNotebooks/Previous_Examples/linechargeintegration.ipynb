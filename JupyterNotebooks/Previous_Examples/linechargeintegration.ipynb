{
 "cells": [
  {
   "cell_type": "markdown",
   "metadata": {},
   "source": [
    "This notebook attempts to solve the following problem: A uniformly charged rod of length L = 1.9m lies along the x-axis with its right end at the origin.  The rod has a total charge of Q = 8.4 uC.  A point P is located on the x-axis a distance a = 2.4m to the right of the origin.  Calculate the magnitude of the electric field at point P, due to the charged rod.  We will solve this problem by doing numerical integration."
   ]
  },
  {
   "cell_type": "code",
   "execution_count": 1,
   "metadata": {},
   "outputs": [],
   "source": [
    "import math"
   ]
  },
  {
   "cell_type": "markdown",
   "metadata": {},
   "source": [
    "Next, we define the appropriate values, along with the number of \"steps\" for the integration, and set the total electric field initially equal to zero."
   ]
  },
  {
   "cell_type": "code",
   "execution_count": 2,
   "metadata": {},
   "outputs": [],
   "source": [
    "nsteps = 1000000\n",
    "a = 2.4\n",
    "ke = 8.99E+09\n",
    "Q = 8.4E-06\n",
    "L = 1.9\n",
    "E_total = 0.0"
   ]
  },
  {
   "cell_type": "markdown",
   "metadata": {},
   "source": [
    "Now, we define a small \"slice\" of the rod, dx, and calculate the amount of charge in this small slice."
   ]
  },
  {
   "cell_type": "code",
   "execution_count": 3,
   "metadata": {},
   "outputs": [],
   "source": [
    "dx = 1.0*L/nsteps\n",
    "dq = Q*dx/L"
   ]
  },
  {
   "cell_type": "markdown",
   "metadata": {},
   "source": [
    "We now loop over the entire length of the rod.  At each step, we calculate the position of the slice, x, and the contribution to the electric field, dE, using the expression for the electric field due to a point charge.  We add this contribution to the total electric field for each step.  When the loop is finished, we print out the total electric field, and also the exact answer (using calculus)."
   ]
  },
  {
   "cell_type": "code",
   "execution_count": 4,
   "metadata": {},
   "outputs": [
    {
     "name": "stdout",
     "output_type": "stream",
     "text": [
      "E_total =  7317.4373473351325\n",
      "E_exact =  7317.441860465117\n"
     ]
    }
   ],
   "source": [
    "for i in range(0,nsteps):\n",
    "    x = -1.0*L+i*dx\n",
    "    dE = ke*dq/((a-x)*(a-x))\n",
    "    E_total = E_total + dE\n",
    "\n",
    "print (\"E_total = \",E_total)\n",
    "E_exact = ke*Q/(a*(a+L))\n",
    "print (\"E_exact = \",E_exact)"
   ]
  },
  {
   "cell_type": "code",
   "execution_count": null,
   "metadata": {},
   "outputs": [],
   "source": []
  },
  {
   "cell_type": "code",
   "execution_count": null,
   "metadata": {},
   "outputs": [],
   "source": []
  }
 ],
 "metadata": {
  "kernelspec": {
   "display_name": "Python 3",
   "language": "python",
   "name": "python3"
  },
  "language_info": {
   "codemirror_mode": {
    "name": "ipython",
    "version": 3
   },
   "file_extension": ".py",
   "mimetype": "text/x-python",
   "name": "python",
   "nbconvert_exporter": "python",
   "pygments_lexer": "ipython3",
   "version": "3.6.8"
  }
 },
 "nbformat": 4,
 "nbformat_minor": 2
}
