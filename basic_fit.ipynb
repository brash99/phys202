{
 "cells": [
  {
   "cell_type": "markdown",
   "metadata": {},
   "source": [
    "The purpose of this code is to read some data (two column, comma-seperated) from a file, plot the data with appropriate axis labels, title, etc., and finally fit the data with a user-defined fit function.  The code will extra the fit parameters and uncertainties, and plot those in the legend.\n",
    "\n",
    "In order to do this, we are going to use the matplotlib (for plotting), numpy (for file reading, and other mathematical operations), and scipy (for curve fitting) Python libraries.  We begin by importing these three libraries."
   ]
  },
  {
   "cell_type": "code",
   "execution_count": 3,
   "metadata": {},
   "outputs": [],
   "source": [
    "import matplotlib.pyplot as plt\n",
    "import numpy as np\n",
    "from scipy.optimize import curve_fit"
   ]
  },
  {
   "cell_type": "markdown",
   "metadata": {},
   "source": [
    "The next step is to define two lists, x and y, which will hold the x and y data to be plotted."
   ]
  },
  {
   "cell_type": "code",
   "execution_count": 4,
   "metadata": {},
   "outputs": [],
   "source": [
    "x = []\n",
    "y = []"
   ]
  },
  {
   "cell_type": "markdown",
   "metadata": {},
   "source": [
    "We need to define a fit function.  In this case, we will define a quadratic function."
   ]
  },
  {
   "cell_type": "code",
   "execution_count": 5,
   "metadata": {},
   "outputs": [],
   "source": [
    "def fitfunction(x,a,b,c):\n",
    "    return a*x*x + b*x + c"
   ]
  },
  {
   "cell_type": "markdown",
   "metadata": {},
   "source": [
    "We now use the loadtxt method of the numpy library to read the data into the x and y lists defined above.  We must specify the delimiter that separates the x and y column data in the data file (a comma in this case).  Finally, we must specify that we wish the loadtxt method to unpack the data into the two separate x and y lists."
   ]
  },
  {
   "cell_type": "code",
   "execution_count": 6,
   "metadata": {},
   "outputs": [],
   "source": [
    "x, y = np.loadtxt('example.dat', delimiter=',',unpack=True)"
   ]
  },
  {
   "cell_type": "markdown",
   "metadata": {},
   "source": [
    "We will now use the curve_fit method to fit the (x,y) data using the fitting function defined above.  Curve_fit returns two very useful objects - popt, which is a list of the fit parameters (a, b, and c in this case), and pcov, which is the covariance matrix of the fit.  The covariance matrix is an (m x m) matrix, where m is the number of fit parameters (3 in this case), and can be used to extract the uncertainties in the fit parameters."
   ]
  },
  {
   "cell_type": "code",
   "execution_count": 7,
   "metadata": {},
   "outputs": [],
   "source": [
    "popt,pcov = curve_fit(fitfunction,x,y)"
   ]
  },
  {
   "cell_type": "markdown",
   "metadata": {},
   "source": [
    "The uncertainties in the fit parameters are given by the square-root of the diagonal elements of the covariance matrix."
   ]
  },
  {
   "cell_type": "code",
   "execution_count": 8,
   "metadata": {},
   "outputs": [],
   "source": [
    "perr = np.sqrt(np.diag(pcov))"
   ]
  },
  {
   "cell_type": "markdown",
   "metadata": {},
   "source": [
    "To make the plot look a bit nicer, we add labels to the x and y axes, and a title.\n",
    "\n",
    "To plot the actual experimental data, we will use the scatter method, and add a label for the legend.\n",
    "\n",
    "To plot the fit to the data, we will use the plot method, using the x-values from the data, and calculating the y-values from the fitfunction defined above with the optimized a,b, and c parameters.  \n",
    "\n",
    "We plot the fit as a red line (r-) and give it an appropriate label based on the fit parameters along with their uncertainties.\n",
    "\n",
    "Finally, we plot the legend."
   ]
  },
  {
   "cell_type": "code",
   "execution_count": 12,
   "metadata": {},
   "outputs": [
    {
     "data": {
      "text/plain": [
       "<matplotlib.legend.Legend at 0x11423f278>"
      ]
     },
     "execution_count": 12,
     "metadata": {},
     "output_type": "execute_result"
    },
    {
     "data": {
      "image/png": "[encoded data removed]",
      "text/plain": [
       "<matplotlib.figure.Figure at 0x113e1ee10>"
      ]
     },
     "metadata": {},
     "output_type": "display_data"
    }
   ],
   "source": [
    "plt.xlabel('x')\n",
    "plt.ylabel('y')\n",
    "plt.title(\"Physics 202 Lab 1\\nCoulomb's Law\")\n",
    "\n",
    "plt.scatter(x,y,label='Experimental Data')\n",
    "\n",
    "plt.plot(x,fitfunction(x,*popt),'r-',\n",
    "         label='fit: a=%5.3f +/- %5.3f,\\n     b=%5.3f +/- %5.3f,\\n     c=%5.3f +/- %5.3f' % \n",
    "         (popt[0],perr[0],popt[1],perr[1],popt[2],perr[2]))\n",
    "\n",
    "plt.legend()"
   ]
  },
  {
   "cell_type": "code",
   "execution_count": null,
   "metadata": {},
   "outputs": [],
   "source": []
  }
 ],
 "metadata": {
  "kernelspec": {
   "display_name": "Python 3",
   "language": "python",
   "name": "python3"
  },
  "language_info": {
   "codemirror_mode": {
    "name": "ipython",
    "version": 3
   },
   "file_extension": ".py",
   "mimetype": "text/x-python",
   "name": "python",
   "nbconvert_exporter": "python",
   "pygments_lexer": "ipython3",
   "version": "3.6.3"
  }
 },
 "nbformat": 4,
 "nbformat_minor": 2
}
