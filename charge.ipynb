{
 "cells": [
  {
   "cell_type": "markdown",
   "metadata": {},
   "source": [
    "This notebook attempts to solve the following problem:  A thin rod of length L1 = 1.5 m lies along the positive x-axis with one end at the origin. A second thin rod of length L2 = 1.9 m lies along the positive x-axis with the left end a distance a = 1.9 m to the right of the first rod (refer to the figure). Both rods carry uniformly distributed charges with Q1 = 6.6 μC on the first rod and Q2 = 18.2 μC on the second rod.\n",
    "\n",
    "Calculate the magnitude of the total force, in Newtons, on the second rod due to the total charge on the first rod.  We also wish to compare this force to that calculated by assuming that the charges are point charges, as a function of the distance, a, between the two rods.\n",
    "\n",
    "The expression for the force, using calculus, is:\n",
    "\n",
    "F12_exact = k*Q1*Q2*log((a*L1)(a+L2)/((a)(a+L1+L2)))\n",
    "\n",
    "The expression fo the the force assuming point charges at the centre of each rod is:\n",
    "\n",
    "F12_pt_charge = k*Q2*Q2/(a+L1/2+L2/2)^2 \n",
    "\n",
    "We begin by importing the appropriate plotting and mathematical libraries."
   ]
  },
  {
   "cell_type": "code",
   "execution_count": 1,
   "metadata": {},
   "outputs": [],
   "source": [
    "import math\n",
    "import matplotlib.pyplot as plt"
   ]
  },
  {
   "cell_type": "markdown",
   "metadata": {},
   "source": [
    "Next, we define the appropriate values, along with lists which will contain the separation, a, and the percentage difference between the exact and point charge solutions."
   ]
  },
  {
   "cell_type": "code",
   "execution_count": 2,
   "metadata": {},
   "outputs": [],
   "source": [
    "ke = 8.99E+09\n",
    "q1 = 6.6E-06\n",
    "q2 = 18.2E-06\n",
    "\n",
    "l1 = 1.5\n",
    "l2 = 1.9\n",
    "pdiff = [0 for i in range(0,1000)]\n",
    "a = [0 for i in range(0,1000)]"
   ]
  },
  {
   "cell_type": "markdown",
   "metadata": {},
   "source": [
    "Now, we loop over separations from the initial value specified in the problem up to some rather large separation.  AT each step, we calculate the two values of the force (exact and point charge), and the percentage difference between them."
   ]
  },
  {
   "cell_type": "code",
   "execution_count": 9,
   "metadata": {},
   "outputs": [
    {
     "name": "stdout",
     "output_type": "stream",
     "text": [
      "a = 1.900  Force = 0.111  Force_pointcharge = 0.104  Difference = 0.061\n"
     ]
    }
   ],
   "source": [
    "for i in range(0,1000):\n",
    "    a[i] = 1.9+i*0.1\n",
    "\n",
    "    fraction = (a[i]+l1)*(a[i]+l2)/((a[i])*(a[i]+l1+l2))\n",
    "    f12 = ke*q1*q2*math.log(fraction)/(l1*l2)\n",
    "    f12_pt_charge = ke*q1*q2/((a[i]+l1/2+l2/2)*(a[i]+l1/2+l2/2))\n",
    "\n",
    "    pdiff[i] = abs((f12-f12_pt_charge)/f12)\n",
    "    if i == 0:\n",
    "        print (\"a = %5.3f\" % a[i],\" Force = %5.3f\" % f12,\" Force_pointcharge = %5.3f\" % f12_pt_charge,\" Difference = %5.3f\" % pdiff[i])"
   ]
  },
  {
   "cell_type": "markdown",
   "metadata": {},
   "source": [
    "Finally, we plot the results."
   ]
  },
  {
   "cell_type": "code",
   "execution_count": 4,
   "metadata": {},
   "outputs": [
    {
     "data": {
      "image/png": "[encoded data removed]",
      "text/plain": [
       "<matplotlib.figure.Figure at 0x1085a9278>"
      ]
     },
     "metadata": {},
     "output_type": "display_data"
    }
   ],
   "source": [
    "fig = plt.figure()\n",
    "ax1 = fig.add_subplot(111)\n",
    "\n",
    "ax1.set_title(\"Point Charge Approximation\")\n",
    "ax1.set_xlabel('Distance (m)')\n",
    "ax1.set_ylabel('Fractional Difference')\n",
    "ax1.grid(True)\n",
    "ax1.set_yscale(\"log\",nonposy='clip')\n",
    "ax1.set_xscale(\"log\",nonposx='clip')\n",
    "\n",
    "ax1.scatter(a,pdiff)\n",
    "\n",
    "plt.show()"
   ]
  },
  {
   "cell_type": "code",
   "execution_count": null,
   "metadata": {},
   "outputs": [],
   "source": []
  }
 ],
 "metadata": {
  "kernelspec": {
   "display_name": "Python 3",
   "language": "python",
   "name": "python3"
  },
  "language_info": {
   "codemirror_mode": {
    "name": "ipython",
    "version": 3
   },
   "file_extension": ".py",
   "mimetype": "text/x-python",
   "name": "python",
   "nbconvert_exporter": "python",
   "pygments_lexer": "ipython3",
   "version": "3.6.3"
  }
 },
 "nbformat": 4,
 "nbformat_minor": 2
}
