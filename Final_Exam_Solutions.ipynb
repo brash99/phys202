{
  "nbformat": 4,
  "nbformat_minor": 0,
  "metadata": {
    "kernelspec": {
      "display_name": "Python 3",
      "language": "python",
      "name": "python3"
    },
    "language_info": {
      "codemirror_mode": {
        "name": "ipython",
        "version": 3
      },
      "file_extension": ".py",
      "mimetype": "text/x-python",
      "name": "python",
      "nbconvert_exporter": "python",
      "pygments_lexer": "ipython3",
      "version": "3.6.8"
    },
    "colab": {
      "name": "Final_Exam_Solutions.ipynb",
      "provenance": []
    }
  },
  "cells": [
    {
      "cell_type": "markdown",
      "metadata": {
        "id": "R2Ds2YUIgoFZ"
      },
      "source": [
        "## Final Exam Solutions\n"
      ]
    },
    {
      "cell_type": "code",
      "metadata": {
        "id": "8R_QD03RgoFc",
        "outputId": "1daa1a80-90a4-4f5c-e438-4f4555fa37da",
        "colab": {
          "base_uri": "https://localhost:8080/"
        }
      },
      "source": [
        "import numpy as np\n",
        "import matplotlib.pyplot as plt\n",
        "import scipy.stats as stats\n",
        "import pandas as pd\n",
        "\n",
        "from statsmodels.formula.api import ols\n",
        "from statsmodels.stats.anova import anova_lm"
      ],
      "execution_count": 1,
      "outputs": [
        {
          "output_type": "stream",
          "text": [
            "/usr/local/lib/python3.6/dist-packages/statsmodels/tools/_testing.py:19: FutureWarning: pandas.util.testing is deprecated. Use the functions in the public API at pandas.testing instead.\n",
            "  import pandas.util.testing as tm\n"
          ],
          "name": "stderr"
        }
      ]
    },
    {
      "cell_type": "markdown",
      "metadata": {
        "id": "7TMGvmhEgoFc"
      },
      "source": [
        "### Question 1:\n",
        "\n",
        "Twenty-four percent of all telephones of a certain type are submitted for service while under warranty. Of these, 70% can be repaired, whereas the other 30% must be replaced with new units. If a company purchases ten of these telephones, what is the probability that exactly three will end up being replaced under warranty?"
      ]
    },
    {
      "cell_type": "code",
      "metadata": {
        "id": "pfSkcPOGgoFd",
        "outputId": "fc398ce8-7b04-4754-e8b6-606482a88bae",
        "colab": {
          "base_uri": "https://localhost:8080/"
        }
      },
      "source": [
        "p_submitted = 0.24\n",
        "p_repaired = 0.70\n",
        "p_replaced = 1 - p_repaired\n",
        "\n",
        "N = 10\n",
        "k = 3\n",
        "\n",
        "X_submitted = stats.binom(N,p_submitted)\n",
        "\n",
        "p_sum = 0.0\n",
        "for i in range(0,N+1):\n",
        "    Y = stats.binom(i,p_replaced)\n",
        "    print (\"N_submitted = %0.0f, P_submitted = %0.4f, P_three_replaced = %0.4f\" % (i,X_submitted.pmf(i),Y.pmf(k)))\n",
        "    p_sum = p_sum + Y.pmf(k)*X_submitted.pmf(i)\n",
        "    \n",
        "print()\n",
        "print (\"P_three_replaced = %0.4f\" % p_sum)"
      ],
      "execution_count": 2,
      "outputs": [
        {
          "output_type": "stream",
          "text": [
            "N_submitted = 0, P_submitted = 0.0643, P_three_replaced = 0.0000\n",
            "N_submitted = 1, P_submitted = 0.2030, P_three_replaced = 0.0000\n",
            "N_submitted = 2, P_submitted = 0.2885, P_three_replaced = 0.0000\n",
            "N_submitted = 3, P_submitted = 0.2429, P_three_replaced = 0.0270\n",
            "N_submitted = 4, P_submitted = 0.1343, P_three_replaced = 0.0756\n",
            "N_submitted = 5, P_submitted = 0.0509, P_three_replaced = 0.1323\n",
            "N_submitted = 6, P_submitted = 0.0134, P_three_replaced = 0.1852\n",
            "N_submitted = 7, P_submitted = 0.0024, P_three_replaced = 0.2269\n",
            "N_submitted = 8, P_submitted = 0.0003, P_three_replaced = 0.2541\n",
            "N_submitted = 9, P_submitted = 0.0000, P_three_replaced = 0.2668\n",
            "N_submitted = 10, P_submitted = 0.0000, P_three_replaced = 0.2668\n",
            "\n",
            "P_three_replaced = 0.0265\n"
          ],
          "name": "stdout"
        }
      ]
    },
    {
      "cell_type": "markdown",
      "metadata": {
        "id": "GFFI_s5igoFd"
      },
      "source": [
        "### Question 2:\n",
        "\n",
        "Consider a paint-drying situation in which drying time for a test specimen is normally distributed with 𝜎 = 10. The hypotheses Ho: 𝜇 = 74 and Ha: 𝜇 < 74 are to be tested using a random sample of n = 25 observations.\n",
        "\n",
        "(a) How many standard deviations (of  $\\bar{X}$ ) below the null value is x = 72.3? (Give answer accurate to 2 decimal places.)\n",
        "\n",
        "(b) If x = 72.3, what is the conclusion using 𝛼 = .01? (Give answer accurate to 2 decimal places.\n",
        "\n",
        "Ho is rejected if z ≤ ?  and z = ?  so \n",
        "\n",
        "(c) What is 𝛼 for the test procedure that rejects Ho when z ≤ -2.82? (Give answer accurate to 4 decimal places.)\n",
        "\n",
        "(d) For the test procedure of part (c), what is 𝛽(70)? (Give answer accurate to 2 decimal places.) \n",
        "\n",
        "(e) If the test procedure of part (c) is used, what n is necessary to ensure that 𝛽(70) = .01? (Exact answer required.) \n",
        "\n",
        "(f) If a level .01 test is used with n = 100, what is the probability of a type I error when 𝜇 = 76? (Give answer accurate to 4 decimal places.)\n",
        "  "
      ]
    },
    {
      "cell_type": "code",
      "metadata": {
        "id": "L4Hd88H3goFi",
        "outputId": "ab1d50d4-d884-402d-cfbd-d88fb73c6eba",
        "colab": {
          "base_uri": "https://localhost:8080/"
        }
      },
      "source": [
        "sigma = 10.0\n",
        "mu = 74.0\n",
        "n = 25\n",
        "\n",
        "xbar = 72.3\n",
        "z = (xbar - mu)/(sigma/np.sqrt(n))\n",
        "print (\"a) %0.2f\" % np.abs(z))\n",
        "\n",
        "alpha = 0.01\n",
        "X = stats.norm()\n",
        "z_low = X.ppf(alpha)\n",
        "\n",
        "print (\"b) H_0 is rejected if z <= %0.2f, and z = %0.2f, so fail to reject\" %(z_low,z))\n",
        "\n",
        "z_critical = -2.82\n",
        "alpha_critical = X.cdf(z_critical)\n",
        "print (\"c) alpha = %0.4f\" % alpha_critical)\n",
        "\n",
        "mu_true = 70.0\n",
        "xbar_critical = mu + z_critical*sigma/np.sqrt(n)\n",
        "z_beta = (xbar_critical - mu_true)/(sigma/np.sqrt(n))\n",
        "beta = 1-X.cdf(z_beta)\n",
        "print (\"d) beta = %0.2f\" % (beta))\n",
        "\n",
        "for n in range(100,200):\n",
        "    xbar_critical = mu + z_critical*sigma/np.sqrt(n)\n",
        "    z_beta = (xbar_critical - mu_true)/(sigma/np.sqrt(n))\n",
        "    beta = 1 - X.cdf(z_beta)\n",
        "    if (beta < 0.01):\n",
        "        print (\"e) Required n = %0.0f\" % n)\n",
        "        break\n",
        "        \n",
        "alpha = 0.01\n",
        "n = 100\n",
        "z_critical = X.ppf(alpha)\n",
        "xbar_critical = mu + z_critical*sigma/np.sqrt(n)\n",
        "\n",
        "mu_true = 76.0\n",
        "z_beta = (xbar_critical - mu_true)/(sigma/np.sqrt(n))\n",
        "alpha_I = X.cdf(z_beta)\n",
        "print (\"f) %0.4f\" % alpha_I)\n"
      ],
      "execution_count": 3,
      "outputs": [
        {
          "output_type": "stream",
          "text": [
            "a) 0.85\n",
            "b) H_0 is rejected if z <= -2.33, and z = -0.85, so fail to reject\n",
            "c) alpha = 0.0024\n",
            "d) beta = 0.79\n",
            "e) Required n = 166\n",
            "f) 0.0000\n"
          ],
          "name": "stdout"
        }
      ]
    },
    {
      "cell_type": "markdown",
      "metadata": {
        "id": "PLyKVjf0goFj"
      },
      "source": [
        "### Question 3\n",
        "\n",
        "A random sample of 115 lightning flashes in a certain region resulted in a sample average radar echo duration of 0.80 sec and a sample standard deviation of 0.32 sec. Calculate a 99% (two-sided) confidence interval for the true average echo duration 𝜇. (Give answers accurate to 3 decimal places.) \n",
        "\n",
        "Interpret the resulting interval."
      ]
    },
    {
      "cell_type": "code",
      "metadata": {
        "id": "1Rl5TsM9goFk",
        "outputId": "135eebeb-f060-4a29-f773-ae96f7904586",
        "colab": {
          "base_uri": "https://localhost:8080/"
        }
      },
      "source": [
        "n = 115\n",
        "xbar = 0.80\n",
        "s = 0.32\n",
        "alpha = 0.01\n",
        "\n",
        "v = n - 1\n",
        "sem = s/np.sqrt(n)\n",
        "\n",
        "# Since we only know s, use the t-distribution\n",
        "\n",
        "X = stats.t(v)\n",
        "\n",
        "t_min = X.ppf(alpha/2.0)\n",
        "t_max = X.ppf(1-alpha/2.0)\n",
        "\n",
        "mu_max = xbar + t_max*sem\n",
        "mu_min = xbar + t_min*sem\n",
        "\n",
        "print (\"Confidence interval = (%0.3f,%0.3f)\" % (mu_min,mu_max))"
      ],
      "execution_count": 4,
      "outputs": [
        {
          "output_type": "stream",
          "text": [
            "Confidence interval = (0.722,0.878)\n"
          ],
          "name": "stdout"
        }
      ]
    },
    {
      "cell_type": "markdown",
      "metadata": {
        "id": "3RhUifuGgoFk"
      },
      "source": [
        "### Question 4\n",
        "\n",
        "Let X1, X2, . . . , X100 denote the actual net weights of 100 randomly selected 50-lb bags of fertilizer. (Give answers accurate to 3 decimal places.)\n",
        "\n",
        "(a) Suppose that the true average weight of the bags really is 50 lbs. and the variance of X is 0.9, calculate P(49.9 <= X <= 50.1). \n",
        "\n",
        "(b) Suppose that the true average weight of the bags is actually 49.8 lb rather than 50 lb so that on average bags are underfilled, calculate P(49.9 <= X <= 50.1)."
      ]
    },
    {
      "cell_type": "code",
      "metadata": {
        "id": "n1jqq2Q_goFk",
        "outputId": "2b00436c-7a7d-4892-b075-e5f42f852ae2",
        "colab": {
          "base_uri": "https://localhost:8080/"
        }
      },
      "source": [
        "n = 100\n",
        "sigma2 = 0.9\n",
        "x_min = 49.9\n",
        "x_max = 50.1\n",
        "\n",
        "sem = np.sqrt(sigma2/n)\n",
        "X = stats.norm()\n",
        "\n",
        "# part A\n",
        "mu = 50.0\n",
        "z_min = (x_min-mu)/sem\n",
        "z_max = (x_max-mu)/sem\n",
        "prob = X.cdf(z_max)-X.cdf(z_min)\n",
        "\n",
        "print (\"a) P(49.9 <= X <= 50.1) = %0.3f\" % prob)\n",
        "\n",
        "# part B\n",
        "mu = 49.8\n",
        "z_min = (x_min-mu)/sem\n",
        "z_max = (x_max-mu)/sem\n",
        "prob = X.cdf(z_max)-X.cdf(z_min)\n",
        "\n",
        "print (\"a) P(49.9 <= X <= 50.1) = %0.3f\" % prob)"
      ],
      "execution_count": 5,
      "outputs": [
        {
          "output_type": "stream",
          "text": [
            "a) P(49.9 <= X <= 50.1) = 0.708\n",
            "a) P(49.9 <= X <= 50.1) = 0.145\n"
          ],
          "name": "stdout"
        }
      ]
    },
    {
      "cell_type": "markdown",
      "metadata": {
        "id": "IgZ5eKb-goFl"
      },
      "source": [
        "### Question 5\n",
        "\n",
        "An experiment to compare the tension bond strength of polymer latex modified mortar (Portland cement mortar to which polymer latex emulsions have been added during mixing) to that of unmodified mortar resulted in x = 18.46 kgf/cm2 for the modified mortar (m = 40) and y = 16.12 kgf/cm2 for the unmodified mortar (n = 34). Let 𝜇1 and 𝜇 2 be the true average tension bond strengths for the modified and unmodified mortars, respectively. Assume that the bond strength distributions are both normal.\n",
        "\n",
        "(a) Assuming that 𝜎1 = 1.8 and 𝜎2 = 1.4, test Ho: 𝜇1 − 𝜇2 = 0 versus Ha: 𝜇1 − 𝜇2 > 0 at level .01.\n",
        "\n",
        "\n",
        "(b) Compute the probability of a type II error for the test of part (a) when 𝜇1 − 𝜇2 = 1.  \n",
        "\n",
        "(c) Suppose the investigator decided to use a level .05 test and wished 𝛽 = .10 when 𝜇1 − 𝜇2 = 1. If m = 39, what value of n is necessary? (Exact answer required.)"
      ]
    },
    {
      "cell_type": "code",
      "metadata": {
        "id": "qJRcSGxwgoFl",
        "outputId": "7d34dc1f-3353-490b-b234-46cc090a5999",
        "colab": {
          "base_uri": "https://localhost:8080/"
        }
      },
      "source": [
        "xbar1 = 18.46\n",
        "n1 = 40\n",
        "xbar2 = 16.12\n",
        "n2 = 34\n",
        "sigma1 = 1.8\n",
        "sigma2 = 1.4\n",
        "\n",
        "X = stats.norm()\n",
        "\n",
        "# part A\n",
        "alpha = 0.01\n",
        "mu1_minus_mu2 = 0.0\n",
        "sem = np.sqrt(sigma1**2/n1+sigma2**2/n2)\n",
        "\n",
        "z = ((xbar1-xbar2)-(mu1_minus_mu2))/sem\n",
        "z_critical = X.ppf(1-alpha)\n",
        "\n",
        "if (z>z_critical):\n",
        "    mystring = \"Reject H0\"\n",
        "else:\n",
        "    mystring = \"Fail to reject H0\"\n",
        "\n",
        "print (\"a) z = %0.2f, therefore %s\" % (z,mystring))\n",
        "\n",
        "# part B\n",
        "mu1_minus_mu2 = 1.0\n",
        "z_actual = z_critical - mu1_minus_mu2/sem\n",
        "beta = X.cdf(z_actual)\n",
        "print (\"b) beta = %0.3f\" % beta)\n",
        "\n",
        "# part C\n",
        "mu1_minus_mu2 = 1.0\n",
        "alpha = 0.05\n",
        "z_critical = X.ppf(1-alpha)\n",
        "\n",
        "for n in range(1,100):\n",
        "    sem = np.sqrt(sigma1**2/n1+sigma2**2/n)\n",
        "    z_actual = z_critical - mu1_minus_mu2/sem\n",
        "    beta = X.cdf(z_actual)\n",
        "    if (beta<0.10):\n",
        "        print (\"c) n = %0.0f\" % n)\n",
        "        break\n"
      ],
      "execution_count": 6,
      "outputs": [
        {
          "output_type": "stream",
          "text": [
            "a) z = 6.28, therefore Reject H0\n",
            "b) beta = 0.360\n",
            "c) n = 55\n"
          ],
          "name": "stdout"
        }
      ]
    },
    {
      "cell_type": "markdown",
      "metadata": {
        "id": "3JzZmzYQgoFl"
      },
      "source": [
        "### Question 6\n",
        "\n",
        "The following partial ANOVA table is taken from an article in which the abilities of three different groups to identify a perceptual incongruity were assessed and compared. All individuals in the experiment had been hospitalized to undergo psychiatric treatment. There were 21 individuals in the depressive group, 35 individuals in the functional \"other\" group, and 31 individuals in the brain-damaged group. Complete the ANOVA table and carry out the F test at level 𝛼 = .01. (Give answers to 2 decimal places and the p-value to 3 decimal places.)"
      ]
    },
    {
      "cell_type": "code",
      "metadata": {
        "id": "ut6OImdbgoFm",
        "outputId": "dc9be541-91d4-4481-e367-307b3de02e56",
        "colab": {
          "base_uri": "https://localhost:8080/"
        }
      },
      "source": [
        "a = 3\n",
        "N = 21 + 35 + 31\n",
        "SS_total = 1124.59\n",
        "MS_treatment = 76.47\n",
        "\n",
        "dof_treatment = a - 1\n",
        "dof_total = N - 1\n",
        "dof_error = dof_total - dof_treatment\n",
        "\n",
        "SS_treatment = MS_treatment*dof_treatment\n",
        "SS_error = SS_total - SS_treatment\n",
        "MS_error = SS_error/dof_error\n",
        "fSN = MS_treatment/MS_error\n",
        "\n",
        "print (\"F Signal/Noise = %0.2f \" % fSN)\n",
        "\n",
        "alpha = 0.01\n",
        "\n",
        "fdist = stats.f(dof_treatment,dof_error)\n",
        "fhigh = fdist.ppf(1-alpha)\n",
        "\n",
        "print (\"Critical F-value = %0.2f\" % (fhigh))\n",
        "\n",
        "if (fSN > 1):\n",
        "    pvalue = (1-fdist.cdf(fSN))\n",
        "else:\n",
        "    pvalue = fdist.cdf(fSN)\n",
        "    \n",
        "print (\"Pvalue = %0.3f\" % (pvalue))\n",
        "\n",
        "# print table\n",
        "\n",
        "print (\"Source     df     Sum of Squares     Mean Square     f     P-value\")\n",
        "print (\"Groups     %0.0f       %0.2f           %0.2f       %0.2f    %0.3f\" %(dof_treatment,SS_treatment,MS_treatment,fSN,pvalue))\n",
        "print (\"Error      %0.0f      %0.2f          %0.2f\" %(dof_error,SS_error,MS_error))\n",
        "print (\"Total      %0.0f      %0.2f\" %(dof_total,SS_total))"
      ],
      "execution_count": 8,
      "outputs": [
        {
          "output_type": "stream",
          "text": [
            "F Signal/Noise = 6.61 \n",
            "Critical F-value = 4.87\n",
            "Pvalue = 0.002\n",
            "Source     df     Sum of Squares     Mean Square     f     P-value\n",
            "Groups     2       152.94           76.47       6.61    0.002\n",
            "Error      84      971.65          11.57\n",
            "Total      86      1124.59\n"
          ],
          "name": "stdout"
        }
      ]
    },
    {
      "cell_type": "markdown",
      "metadata": {
        "id": "ccUVQIhqgoFm"
      },
      "source": [
        "### Question 7\n",
        "\n",
        "An article gives adaptation scores for three different treatments: \n",
        "    \n",
        "(1) no shock, (2) shock following each stuttered word, (3) shock during each moment of stuttering. \n",
        "\n",
        "These treatments were used on each of 21 stutterers, \n",
        "resulting in SST = 3464.00, SSTr = 27.67, and SSB1 = 2964.79.\n",
        "\n",
        "(a) Construct the ANOVA table and test at level .05 to see whether true average \n",
        "adaptation score depends on the treatment given. \n",
        "Give answers accurate to 2 decimal places.\n",
        "\n",
        "(b) Judging from the F ratio for subjects (factor B), do you think that blocking on subjects was effective in this experiment? Explain."
      ]
    },
    {
      "cell_type": "code",
      "metadata": {
        "id": "L7Yz6QwygoFm",
        "outputId": "121558fb-b484-482a-a79e-93060c9e8a4e",
        "colab": {
          "base_uri": "https://localhost:8080/"
        }
      },
      "source": [
        "N = 3*21\n",
        "a = 3\n",
        "b = 21\n",
        "n = 1\n",
        "\n",
        "dof_total = N - 1\n",
        "dof_A = a - 1\n",
        "dof_B = b - 1\n",
        "dof_error = dof_total - dof_A - dof_B\n",
        "\n",
        "SS_total = 3464.0\n",
        "SS_A = 27.67\n",
        "SS_B = 2964.79\n",
        "SS_error = SS_total - SS_A - SS_B\n",
        "\n",
        "MS_A = SS_A/dof_A\n",
        "MS_B = SS_B/dof_B\n",
        "MS_error = SS_error/dof_error\n",
        "\n",
        "fSN_A = MS_A/MS_error\n",
        "fSN_B = MS_B/MS_error\n",
        "\n",
        "print (\"F Signal/Noise A = %0.2f \" % fSN_A)\n",
        "\n",
        "alpha = 0.05\n",
        "\n",
        "fdist = stats.f(dof_A,dof_error)\n",
        "fhigh = fdist.ppf(1-alpha)\n",
        "\n",
        "print (\"Critical F-value A = %0.2f\" % (fhigh))\n",
        "\n",
        "if (fSN_A > 1):\n",
        "    pvalue_A = (1-fdist.cdf(fSN_A))\n",
        "else:\n",
        "    pvalue_A = fdist.cdf(fSN_A)\n",
        "    \n",
        "print (\"Pvalue A = %0.3f\" % (pvalue_A))\n",
        "\n",
        "print (\"F Signal/Noise B = %0.2f \" % fSN_B)\n",
        "\n",
        "fdist = stats.f(dof_B,dof_error)\n",
        "fhigh = fdist.ppf(1-alpha)\n",
        "\n",
        "print (\"Critical F-value B = %0.2f\" % (fhigh))\n",
        "\n",
        "if (fSN_B > 1):\n",
        "    pvalue_B = (1-fdist.cdf(fSN_B))\n",
        "else:\n",
        "    pvalue_B = fdist.cdf(fSN_B)\n",
        "    \n",
        "print (\"Pvalue B = %0.3f\" % (pvalue_B))\n",
        "\n",
        "# print table\n",
        "print ()\n",
        "print (\"Source     df     Sum of Squares     Mean Square     f     P-value\")\n",
        "print (\"Treatments    %0.0f        %0.2f            %0.2f        %0.2f    %0.3f\" %(dof_A,SS_A,MS_A,fSN_A,pvalue_A))\n",
        "print (\"Subjects     %0.0f      %0.2f           %0.2f       %0.2f    %0.3f\" %(dof_B,SS_B,MS_B,fSN_B,pvalue_B))\n",
        "print (\"Error        %0.0f       %0.2f            %0.2f\" %(dof_error,SS_error,MS_error))\n",
        "print (\"Total        %0.0f      %0.2f\" %(dof_total,SS_total))"
      ],
      "execution_count": 9,
      "outputs": [
        {
          "output_type": "stream",
          "text": [
            "F Signal/Noise A = 1.17 \n",
            "Critical F-value A = 3.23\n",
            "Pvalue A = 0.320\n",
            "F Signal/Noise B = 12.57 \n",
            "Critical F-value B = 1.84\n",
            "Pvalue B = 0.000\n",
            "\n",
            "Source     df     Sum of Squares     Mean Square     f     P-value\n",
            "Treatments    2        27.67            13.84        1.17    0.320\n",
            "Subjects     20      2964.79           148.24       12.57    0.000\n",
            "Error        40       471.54            11.79\n",
            "Total        62      3464.00\n"
          ],
          "name": "stdout"
        }
      ]
    },
    {
      "cell_type": "markdown",
      "metadata": {
        "id": "wwZCfZAygoFn"
      },
      "source": [
        "### Question 8\n",
        "\n",
        "In an experiment to assess the effects of curing time (factor A) \n",
        "and type of mix (factor B) on the compressive strength of hardened cement cubes, three different curing times were used in combination with four different mixes, with three observations obtained for each of the 12 curing time-mix combinations. The resulting sums of squares were computed to be SSA = 30,382.4, SSB = 34,528.2, SSE = 95,488.7, and SST = 206,796.2.\n",
        "\n",
        "(a) Construct an ANOVA table. (Give df as exact integers, SS and MS to 1 decimal place, F to 2 decimal places, and p-values to 3 decimal places.)\n",
        "\n",
        "(b) Test at level .05 the null hypothesis HoAB: all 𝛾ij's = 0 (no interaction of factors) against HaAB: at least one 𝛾ij ≠ 0.\n",
        "\n",
        "(c) Test at level .05 the null hypothesis HoA: 𝛼1 = 𝛼2 = 𝛼3 = 0 (factor A main effects are absent) against HaA: at least one 𝛼i ≠ 0.\n",
        "\n",
        "(d) Test HoB: 𝛽1 = 𝛽2 = 𝛽3 = 𝛽4 = 0 versus HaB: at least one 𝛽j ≠ 0 using a level .05 test.\n",
        "\n",
        "(e) The values of the xi..'s were x1.. = 4010.88, x2.. = 4029.10, and x3.. = 3960.02. Use Tukey's procedure to investigate significant differences among the three curing times. (Give answer accurate to 2 decimal places.)"
      ]
    },
    {
      "cell_type": "code",
      "metadata": {
        "id": "OqgYJdFJgoFn",
        "outputId": "11b79548-a97c-4b2b-f968-54c620bcefce",
        "colab": {
          "base_uri": "https://localhost:8080/",
          "height": 640
        }
      },
      "source": [
        "a = 3\n",
        "b = 4\n",
        "n = 3\n",
        "N = a*b*n\n",
        "\n",
        "dof_total = N - 1\n",
        "dof_A = a - 1\n",
        "dof_B = b - 1\n",
        "dof_AB = dof_A*dof_B\n",
        "dof_error = dof_total - dof_A - dof_B - dof_AB\n",
        "\n",
        "SS_total = 206796.2\n",
        "SS_A = 30382.4\n",
        "SS_B = 34528.2\n",
        "SS_error = SS_error = 95488.7\n",
        "SS_AB = SS_total - SS_A - SS_B - SS_error\n",
        "\n",
        "MS_A = SS_A/dof_A\n",
        "MS_B = SS_B/dof_B\n",
        "MS_AB = SS_AB/dof_AB\n",
        "MS_error = SS_error/dof_error\n",
        "\n",
        "fSN_A = MS_A/MS_error\n",
        "fSN_B = MS_B/MS_error\n",
        "fSN_AB = MS_AB/MS_error\n",
        "\n",
        "print (\"F Signal/Noise A = %0.2f \" % fSN_A)\n",
        "\n",
        "alpha = 0.05\n",
        "\n",
        "fdist = stats.f(dof_A,dof_error)\n",
        "fhigh = fdist.ppf(1-alpha)\n",
        "\n",
        "print (\"Critical F-value A = %0.2f\" % (fhigh))\n",
        "\n",
        "if (fSN_A > 1):\n",
        "    pvalue_A = (1-fdist.cdf(fSN_A))\n",
        "else:\n",
        "    pvalue_A = fdist.cdf(fSN_A)\n",
        "    \n",
        "print (\"Pvalue A = %0.3f\" % (pvalue_A))\n",
        "\n",
        "print (\"F Signal/Noise B = %0.2f \" % fSN_B)\n",
        "\n",
        "fdist = stats.f(dof_B,dof_error)\n",
        "fhigh = fdist.ppf(1-alpha)\n",
        "\n",
        "print (\"Critical F-value B = %0.2f\" % (fhigh))\n",
        "\n",
        "if (fSN_B > 1):\n",
        "    pvalue_B = (1-fdist.cdf(fSN_B))\n",
        "else:\n",
        "    pvalue_B = fdist.cdf(fSN_B)\n",
        "    \n",
        "print (\"Pvalue B = %0.3f\" % (pvalue_B))\n",
        "\n",
        "fdist = stats.f(dof_AB,dof_error)\n",
        "fhigh = fdist.ppf(1-alpha)\n",
        "\n",
        "print (\"Critical F-value AB = %0.2f\" % (fhigh))\n",
        "\n",
        "if (fSN_AB > 1):\n",
        "    pvalue_AB = (1-fdist.cdf(fSN_AB))\n",
        "else:\n",
        "    pvalue_AB = fdist.cdf(fSN_AB)\n",
        "    \n",
        "print (\"Pvalue B = %0.3f\" % (pvalue_AB))\n",
        "\n",
        "# print table\n",
        "print ()\n",
        "print (\"Source     df     Sum of Squares     Mean Square     f     P-value\")\n",
        "print (\"A             %0.0f      %0.1f           %0.1f     %0.2f    %0.4f\" %(dof_A,SS_A,MS_A,fSN_A,pvalue_A))\n",
        "print (\"B             %0.0f      %0.1f           %0.1f     %0.2f    %0.4f\" %(dof_B,SS_B,MS_B,fSN_B,pvalue_B))\n",
        "print (\"B             %0.0f      %0.1f            %0.1f     %0.2f     %0.3f\" %(dof_AB,SS_AB,MS_AB,fSN_AB,pvalue_AB))\n",
        "print (\"Error        %0.0f      %0.1f            %0.1f\" %(dof_error,SS_error,MS_error))\n",
        "print (\"Total        %0.0f     %0.1f\" %(dof_total,SS_total))\n",
        "print ()\n",
        "\n",
        "xbar = np.array([4010.88,4029.10,3960.02])\n",
        "n = N/a\n",
        "\n",
        "# Tukey's Procedure\n",
        "#\n",
        "# Step 1:  Calculate the standard error = sqrt(MS_error/n)\n",
        "\n",
        "from q_tukey import q_tukey\n",
        "\n",
        "std_error = np.sqrt(MS_error/n)\n",
        "print (\"Standard Error = %0.3f\" % std_error)\n",
        "\n",
        "# Step 2:  Order the means from smallest to largest\n",
        "\n",
        "print (\"Original Xbar = \",xbar)\n",
        "xbar_orig = xbar.copy()\n",
        "xbar.sort()\n",
        "print (\"Sorted Xbar = \",xbar)\n",
        "\n",
        "# Step 3:  Get the expected number of error bars (sem) between largest and smallest, for the number\n",
        "# of means to be compared (a).  For this, we need the studentized range table values q(alpha,dof_error,k) for k=2..a.\n",
        "# \n",
        "# http://www.real-statistics.com/statistics-tables/studentized-range-q-table/\n",
        "# For this problem, dof_error = 15, alpha = 0.05, k = 2,3,4,5\n",
        "#q = np.array([3.014,3.673,4.076,4.367])\n",
        "\n",
        "n_means=len(xbar)\n",
        "q = q_tukey(n_means,dof_error,alpha)\n",
        "print (q)\n",
        "\n",
        "# Step 4:  Calculate W = q(k=5)*std_error\n",
        "\n",
        "W = q[n_means-2]*std_error\n",
        "\n",
        "print (\"W = %0.2f\" % W)\n",
        "\n",
        "# Step 5:  Make pair-wise comparisons\n",
        "\n",
        "print (list(xbar_orig))\n",
        "\n",
        "print (\"i j xbar1 xbar2 Diff Diff_comp Result\")\n",
        "for i in range(len(xbar)):\n",
        "    for j in range(len(xbar)):\n",
        "        if (xbar[j] > xbar[i]):\n",
        "            diff = (xbar[j] - xbar[i])/std_error\n",
        "            diff_comp = q[j-i-1]\n",
        "            if (diff>diff_comp):\n",
        "                Result = \"Yes\"\n",
        "            else:\n",
        "                Result = \"No\"\n",
        "            iorig = list(xbar_orig).index(xbar[i])+1\n",
        "            jorig = list(xbar_orig).index(xbar[j])+1\n",
        "            print (\"%0.0f %0.0f %0.1f %0.1f %0.3f  %0.3f %s\" % (iorig,jorig,xbar[i],xbar[j],diff,diff_comp,Result))"
      ],
      "execution_count": 10,
      "outputs": [
        {
          "output_type": "stream",
          "text": [
            "F Signal/Noise A = 3.82 \n",
            "Critical F-value A = 3.40\n",
            "Pvalue A = 0.036\n",
            "F Signal/Noise B = 2.89 \n",
            "Critical F-value B = 3.01\n",
            "Pvalue B = 0.056\n",
            "Critical F-value AB = 2.51\n",
            "Pvalue B = 0.115\n",
            "\n",
            "Source     df     Sum of Squares     Mean Square     f     P-value\n",
            "A             2      30382.4           15191.2     3.82    0.0363\n",
            "B             3      34528.2           11509.4     2.89    0.0561\n",
            "B             6      46396.9            7732.8     1.94     0.115\n",
            "Error        24      95488.7            3978.7\n",
            "Total        35     206796.2\n",
            "\n"
          ],
          "name": "stdout"
        },
        {
          "output_type": "error",
          "ename": "ModuleNotFoundError",
          "evalue": "ignored",
          "traceback": [
            "\u001b[0;31m---------------------------------------------------------------------------\u001b[0m",
            "\u001b[0;31mModuleNotFoundError\u001b[0m                       Traceback (most recent call last)",
            "\u001b[0;32m<ipython-input-10-fced6ed24267>\u001b[0m in \u001b[0;36m<module>\u001b[0;34m()\u001b[0m\n\u001b[1;32m     84\u001b[0m \u001b[0;31m# Step 1:  Calculate the standard error = sqrt(MS_error/n)\u001b[0m\u001b[0;34m\u001b[0m\u001b[0;34m\u001b[0m\u001b[0;34m\u001b[0m\u001b[0m\n\u001b[1;32m     85\u001b[0m \u001b[0;34m\u001b[0m\u001b[0m\n\u001b[0;32m---> 86\u001b[0;31m \u001b[0;32mfrom\u001b[0m \u001b[0mq_tukey\u001b[0m \u001b[0;32mimport\u001b[0m \u001b[0mq_tukey\u001b[0m\u001b[0;34m\u001b[0m\u001b[0;34m\u001b[0m\u001b[0m\n\u001b[0m\u001b[1;32m     87\u001b[0m \u001b[0;34m\u001b[0m\u001b[0m\n\u001b[1;32m     88\u001b[0m \u001b[0mstd_error\u001b[0m \u001b[0;34m=\u001b[0m \u001b[0mnp\u001b[0m\u001b[0;34m.\u001b[0m\u001b[0msqrt\u001b[0m\u001b[0;34m(\u001b[0m\u001b[0mMS_error\u001b[0m\u001b[0;34m/\u001b[0m\u001b[0mn\u001b[0m\u001b[0;34m)\u001b[0m\u001b[0;34m\u001b[0m\u001b[0;34m\u001b[0m\u001b[0m\n",
            "\u001b[0;31mModuleNotFoundError\u001b[0m: No module named 'q_tukey'",
            "",
            "\u001b[0;31m---------------------------------------------------------------------------\u001b[0;32m\nNOTE: If your import is failing due to a missing package, you can\nmanually install dependencies using either !pip or !apt.\n\nTo view examples of installing some common dependencies, click the\n\"Open Examples\" button below.\n\u001b[0;31m---------------------------------------------------------------------------\u001b[0m\n"
          ]
        }
      ]
    },
    {
      "cell_type": "markdown",
      "metadata": {
        "id": "IDchVJ2BgoFo"
      },
      "source": [
        "### Question 9\n",
        "\n",
        "The current (in µA) necessary to produce a certain level of brightness of a television tube was measured for two different types of glass and three different types of phosphor, resulting in the accompanying data (\"Fundamentals of Analysis of Variance,\" Industrial Quality Control, 1956: 5-8).\n",
        "\n",
        "Phosphor Type\n",
        "1\t2\t3\n",
        "Glass  \t  1  \t  280, 290, 285  \t  300, 310, 295  \t  270, 285, 290  \n",
        "Type\t2\t230, 235, 240\t260, 240, 235\t220, 225, 230\n",
        "\n",
        "Assuming that both factors are fixed, test HoAB versus HaAB at level .01. Then if HoAB cannot be rejected, test the two sets of main effect hypotheses. (Give answers accurate to 2 decimal places.)   \n"
      ]
    },
    {
      "cell_type": "code",
      "metadata": {
        "id": "-nW8mIlMgoFo",
        "outputId": "8168148c-e249-464d-9522-0bf794c03bb4",
        "colab": {
          "base_uri": "https://localhost:8080/"
        }
      },
      "source": [
        "xijk = np.array([[280,1,1],[290,1,1],[285,1,1],\n",
        "                [300,1,2],[310,1,2],[295,1,2],\n",
        "                [270,1,3],[285,1,3],[290,1,3],\n",
        "                [230,2,1],[235,2,1],[240,2,1],\n",
        "                [260,2,2],[240,2,2],[235,2,2],\n",
        "                [220,2,3],[225,2,3],[230,2,3]])\n",
        "\n",
        "df = pd.DataFrame(xijk,columns=['value','Glass','Phosphor'])\n",
        "formula = 'value ~ C(Glass):C(Phosphor) + C(Glass) + C(Phosphor)'\n",
        "lm = ols(formula,df).fit()\n",
        "anovaResults = anova_lm(lm)\n",
        "print (anovaResults)\n",
        "print ()\n",
        "\n",
        "dof_AB = 2\n",
        "dof_A = 1\n",
        "dof_B = 2\n",
        "dof_error = 12\n",
        "alpha = 0.01\n",
        "\n",
        "fdist = stats.f(dof_AB,dof_error)\n",
        "fhigh = fdist.ppf(1-alpha)\n",
        "\n",
        "print (\"Critical F-value AB = %0.2f\" % (fhigh))\n",
        "\n",
        "fdist = stats.f(dof_A,dof_error)\n",
        "fhigh = fdist.ppf(1-alpha)\n",
        "\n",
        "print (\"Critical F-value A = %0.2f\" % (fhigh))\n",
        "\n",
        "fdist = stats.f(dof_B,dof_error)\n",
        "fhigh = fdist.ppf(1-alpha)\n",
        "\n",
        "print (\"Critical F-value B = %0.2f\" % (fhigh))"
      ],
      "execution_count": 11,
      "outputs": [
        {
          "output_type": "stream",
          "text": [
            "                        df        sum_sq       mean_sq       F        PR(>F)\n",
            "C(Glass)               1.0  13338.888889  13338.888889  192.08  9.568328e-09\n",
            "C(Phosphor)            2.0   1244.444444    622.222222    8.96  4.162152e-03\n",
            "C(Glass):C(Phosphor)   2.0     44.444444     22.222222    0.32  7.321584e-01\n",
            "Residual              12.0    833.333333     69.444444     NaN           NaN\n",
            "\n",
            "Critical F-value AB = 6.93\n",
            "Critical F-value A = 9.33\n",
            "Critical F-value B = 6.93\n"
          ],
          "name": "stdout"
        }
      ]
    },
    {
      "cell_type": "code",
      "metadata": {
        "id": "xFIykrTygoFo"
      },
      "source": [
        ""
      ],
      "execution_count": null,
      "outputs": []
    }
  ]
}